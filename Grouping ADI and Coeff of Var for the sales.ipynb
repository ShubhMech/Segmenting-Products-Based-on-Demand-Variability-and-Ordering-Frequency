{
 "cells": [
  {
   "cell_type": "code",
   "execution_count": 119,
   "id": "69abde2e-5cc3-4b95-b86c-13dd3e8d8a9a",
   "metadata": {},
   "outputs": [],
   "source": [
    "path= r\"D:\\Asus\\Documents\\retail_clean (1).csv\""
   ]
  },
  {
   "cell_type": "code",
   "execution_count": 120,
   "id": "3fa72597-3f39-4084-aef9-743ed933832f",
   "metadata": {},
   "outputs": [],
   "source": [
    "import pandas as pd"
   ]
  },
  {
   "cell_type": "code",
   "execution_count": 121,
   "id": "bdbe744a-8a4a-4222-b6d3-f83fca231b9c",
   "metadata": {},
   "outputs": [],
   "source": [
    "retail= pd.read_csv(path,index_col='Unnamed: 0')"
   ]
  },
  {
   "cell_type": "code",
   "execution_count": 122,
   "id": "832fd4b2-c235-438a-ad1f-fdbd5de39e6a",
   "metadata": {},
   "outputs": [
    {
     "data": {
      "text/html": [
       "<div>\n",
       "<style scoped>\n",
       "    .dataframe tbody tr th:only-of-type {\n",
       "        vertical-align: middle;\n",
       "    }\n",
       "\n",
       "    .dataframe tbody tr th {\n",
       "        vertical-align: top;\n",
       "    }\n",
       "\n",
       "    .dataframe thead th {\n",
       "        text-align: right;\n",
       "    }\n",
       "</style>\n",
       "<table border=\"1\" class=\"dataframe\">\n",
       "  <thead>\n",
       "    <tr style=\"text-align: right;\">\n",
       "      <th></th>\n",
       "      <th>Invoice</th>\n",
       "      <th>StockCode</th>\n",
       "      <th>Description</th>\n",
       "      <th>Quantity</th>\n",
       "      <th>InvoiceDate</th>\n",
       "      <th>Price</th>\n",
       "      <th>Customer ID</th>\n",
       "      <th>Country</th>\n",
       "      <th>Revenue</th>\n",
       "    </tr>\n",
       "  </thead>\n",
       "  <tbody>\n",
       "    <tr>\n",
       "      <th>0</th>\n",
       "      <td>489434</td>\n",
       "      <td>85048</td>\n",
       "      <td>15CM CHRISTMAS GLASS BALL 20 LIGHTS</td>\n",
       "      <td>12</td>\n",
       "      <td>2009-12-01 07:45:00</td>\n",
       "      <td>6.95</td>\n",
       "      <td>13085.0</td>\n",
       "      <td>United Kingdom</td>\n",
       "      <td>83.4</td>\n",
       "    </tr>\n",
       "    <tr>\n",
       "      <th>1</th>\n",
       "      <td>489434</td>\n",
       "      <td>79323P</td>\n",
       "      <td>PINK CHERRY LIGHTS</td>\n",
       "      <td>12</td>\n",
       "      <td>2009-12-01 07:45:00</td>\n",
       "      <td>6.75</td>\n",
       "      <td>13085.0</td>\n",
       "      <td>United Kingdom</td>\n",
       "      <td>81.0</td>\n",
       "    </tr>\n",
       "    <tr>\n",
       "      <th>2</th>\n",
       "      <td>489434</td>\n",
       "      <td>79323W</td>\n",
       "      <td>WHITE CHERRY LIGHTS</td>\n",
       "      <td>12</td>\n",
       "      <td>2009-12-01 07:45:00</td>\n",
       "      <td>6.75</td>\n",
       "      <td>13085.0</td>\n",
       "      <td>United Kingdom</td>\n",
       "      <td>81.0</td>\n",
       "    </tr>\n",
       "    <tr>\n",
       "      <th>3</th>\n",
       "      <td>489434</td>\n",
       "      <td>22041</td>\n",
       "      <td>RECORD FRAME 7\" SINGLE SIZE</td>\n",
       "      <td>48</td>\n",
       "      <td>2009-12-01 07:45:00</td>\n",
       "      <td>2.10</td>\n",
       "      <td>13085.0</td>\n",
       "      <td>United Kingdom</td>\n",
       "      <td>100.8</td>\n",
       "    </tr>\n",
       "    <tr>\n",
       "      <th>4</th>\n",
       "      <td>489434</td>\n",
       "      <td>21232</td>\n",
       "      <td>STRAWBERRY CERAMIC TRINKET BOX</td>\n",
       "      <td>24</td>\n",
       "      <td>2009-12-01 07:45:00</td>\n",
       "      <td>1.25</td>\n",
       "      <td>13085.0</td>\n",
       "      <td>United Kingdom</td>\n",
       "      <td>30.0</td>\n",
       "    </tr>\n",
       "  </tbody>\n",
       "</table>\n",
       "</div>"
      ],
      "text/plain": [
       "   Invoice StockCode                          Description  Quantity  \\\n",
       "0   489434     85048  15CM CHRISTMAS GLASS BALL 20 LIGHTS        12   \n",
       "1   489434    79323P                   PINK CHERRY LIGHTS        12   \n",
       "2   489434    79323W                  WHITE CHERRY LIGHTS        12   \n",
       "3   489434     22041         RECORD FRAME 7\" SINGLE SIZE         48   \n",
       "4   489434     21232       STRAWBERRY CERAMIC TRINKET BOX        24   \n",
       "\n",
       "           InvoiceDate  Price  Customer ID         Country  Revenue  \n",
       "0  2009-12-01 07:45:00   6.95      13085.0  United Kingdom     83.4  \n",
       "1  2009-12-01 07:45:00   6.75      13085.0  United Kingdom     81.0  \n",
       "2  2009-12-01 07:45:00   6.75      13085.0  United Kingdom     81.0  \n",
       "3  2009-12-01 07:45:00   2.10      13085.0  United Kingdom    100.8  \n",
       "4  2009-12-01 07:45:00   1.25      13085.0  United Kingdom     30.0  "
      ]
     },
     "execution_count": 122,
     "metadata": {},
     "output_type": "execute_result"
    }
   ],
   "source": [
    "retail.head()"
   ]
  },
  {
   "cell_type": "code",
   "execution_count": 123,
   "id": "d5290b86-c7fa-4022-9d8a-8f15759b8900",
   "metadata": {},
   "outputs": [
    {
     "name": "stdout",
     "output_type": "stream",
     "text": [
      "<class 'pandas.core.frame.DataFrame'>\n",
      "Int64Index: 779495 entries, 0 to 1067370\n",
      "Data columns (total 9 columns):\n",
      " #   Column       Non-Null Count   Dtype  \n",
      "---  ------       --------------   -----  \n",
      " 0   Invoice      779495 non-null  int64  \n",
      " 1   StockCode    779495 non-null  object \n",
      " 2   Description  779495 non-null  object \n",
      " 3   Quantity     779495 non-null  int64  \n",
      " 4   InvoiceDate  779495 non-null  object \n",
      " 5   Price        779495 non-null  float64\n",
      " 6   Customer ID  779495 non-null  float64\n",
      " 7   Country      779495 non-null  object \n",
      " 8   Revenue      779495 non-null  float64\n",
      "dtypes: float64(3), int64(2), object(4)\n",
      "memory usage: 59.5+ MB\n"
     ]
    }
   ],
   "source": [
    "retail.info()"
   ]
  },
  {
   "cell_type": "code",
   "execution_count": 124,
   "id": "0aa84578-4ee4-4692-9835-7011ec334d99",
   "metadata": {},
   "outputs": [],
   "source": [
    "dates=retail['InvoiceDate'].str.split(' ', expand= True)"
   ]
  },
  {
   "cell_type": "code",
   "execution_count": 125,
   "id": "177be678-56e9-4107-807f-9fdc4ef48a56",
   "metadata": {},
   "outputs": [
    {
     "data": {
      "text/plain": [
       "0          2009-12-01\n",
       "1          2009-12-01\n",
       "2          2009-12-01\n",
       "3          2009-12-01\n",
       "4          2009-12-01\n",
       "              ...    \n",
       "1067366    2011-12-09\n",
       "1067367    2011-12-09\n",
       "1067368    2011-12-09\n",
       "1067369    2011-12-09\n",
       "1067370    2011-12-09\n",
       "Name: 0, Length: 779495, dtype: object"
      ]
     },
     "execution_count": 125,
     "metadata": {},
     "output_type": "execute_result"
    }
   ],
   "source": [
    "dates[0]"
   ]
  },
  {
   "cell_type": "code",
   "execution_count": 126,
   "id": "8495ebaa-d9ee-4f47-b4e7-64e16e314e61",
   "metadata": {},
   "outputs": [],
   "source": [
    "retail['InvDate']= pd.to_datetime(dates[0])"
   ]
  },
  {
   "cell_type": "code",
   "execution_count": 127,
   "id": "239c8188-ecf5-4818-9f48-be43e55ed8d0",
   "metadata": {},
   "outputs": [
    {
     "data": {
      "text/html": [
       "<div>\n",
       "<style scoped>\n",
       "    .dataframe tbody tr th:only-of-type {\n",
       "        vertical-align: middle;\n",
       "    }\n",
       "\n",
       "    .dataframe tbody tr th {\n",
       "        vertical-align: top;\n",
       "    }\n",
       "\n",
       "    .dataframe thead th {\n",
       "        text-align: right;\n",
       "    }\n",
       "</style>\n",
       "<table border=\"1\" class=\"dataframe\">\n",
       "  <thead>\n",
       "    <tr style=\"text-align: right;\">\n",
       "      <th></th>\n",
       "      <th>count</th>\n",
       "      <th>mean</th>\n",
       "      <th>std</th>\n",
       "      <th>min</th>\n",
       "      <th>25%</th>\n",
       "      <th>50%</th>\n",
       "      <th>75%</th>\n",
       "      <th>max</th>\n",
       "    </tr>\n",
       "  </thead>\n",
       "  <tbody>\n",
       "    <tr>\n",
       "      <th>Invoice</th>\n",
       "      <td>779495.0</td>\n",
       "      <td>537427.005391</td>\n",
       "      <td>26901.961110</td>\n",
       "      <td>489434.0</td>\n",
       "      <td>514483.00</td>\n",
       "      <td>536754.00</td>\n",
       "      <td>562002.00</td>\n",
       "      <td>581587.0</td>\n",
       "    </tr>\n",
       "    <tr>\n",
       "      <th>Quantity</th>\n",
       "      <td>779495.0</td>\n",
       "      <td>13.507085</td>\n",
       "      <td>146.540284</td>\n",
       "      <td>1.0</td>\n",
       "      <td>2.00</td>\n",
       "      <td>6.00</td>\n",
       "      <td>12.00</td>\n",
       "      <td>80995.0</td>\n",
       "    </tr>\n",
       "    <tr>\n",
       "      <th>Price</th>\n",
       "      <td>779495.0</td>\n",
       "      <td>3.218199</td>\n",
       "      <td>29.674823</td>\n",
       "      <td>0.0</td>\n",
       "      <td>1.25</td>\n",
       "      <td>1.95</td>\n",
       "      <td>3.75</td>\n",
       "      <td>10953.5</td>\n",
       "    </tr>\n",
       "    <tr>\n",
       "      <th>Customer ID</th>\n",
       "      <td>779495.0</td>\n",
       "      <td>15320.262918</td>\n",
       "      <td>1695.722988</td>\n",
       "      <td>12346.0</td>\n",
       "      <td>13971.00</td>\n",
       "      <td>15246.00</td>\n",
       "      <td>16794.00</td>\n",
       "      <td>18287.0</td>\n",
       "    </tr>\n",
       "    <tr>\n",
       "      <th>Revenue</th>\n",
       "      <td>779495.0</td>\n",
       "      <td>22.289821</td>\n",
       "      <td>227.416962</td>\n",
       "      <td>0.0</td>\n",
       "      <td>4.95</td>\n",
       "      <td>12.48</td>\n",
       "      <td>19.80</td>\n",
       "      <td>168469.6</td>\n",
       "    </tr>\n",
       "  </tbody>\n",
       "</table>\n",
       "</div>"
      ],
      "text/plain": [
       "                count           mean           std       min        25%  \\\n",
       "Invoice      779495.0  537427.005391  26901.961110  489434.0  514483.00   \n",
       "Quantity     779495.0      13.507085    146.540284       1.0       2.00   \n",
       "Price        779495.0       3.218199     29.674823       0.0       1.25   \n",
       "Customer ID  779495.0   15320.262918   1695.722988   12346.0   13971.00   \n",
       "Revenue      779495.0      22.289821    227.416962       0.0       4.95   \n",
       "\n",
       "                   50%        75%       max  \n",
       "Invoice      536754.00  562002.00  581587.0  \n",
       "Quantity          6.00      12.00   80995.0  \n",
       "Price             1.95       3.75   10953.5  \n",
       "Customer ID   15246.00   16794.00   18287.0  \n",
       "Revenue          12.48      19.80  168469.6  "
      ]
     },
     "execution_count": 127,
     "metadata": {},
     "output_type": "execute_result"
    }
   ],
   "source": [
    "retail.describe().T"
   ]
  },
  {
   "cell_type": "code",
   "execution_count": 128,
   "id": "4f08230b-6bdd-4d12-881e-f4d45721cc12",
   "metadata": {},
   "outputs": [],
   "source": [
    "retail['Daysof Week']=pd.to_datetime(retail['InvDate']).dt.dayofweek"
   ]
  },
  {
   "cell_type": "code",
   "execution_count": 129,
   "id": "1a65a11b-5954-49aa-8073-972391cc2533",
   "metadata": {},
   "outputs": [
    {
     "data": {
      "text/plain": [
       "3    156012\n",
       "1    134028\n",
       "2    130782\n",
       "6    130141\n",
       "0    124957\n",
       "4    103175\n",
       "5       400\n",
       "Name: Daysof Week, dtype: int64"
      ]
     },
     "execution_count": 129,
     "metadata": {},
     "output_type": "execute_result"
    }
   ],
   "source": [
    "retail['Daysof Week'].value_counts()"
   ]
  },
  {
   "cell_type": "code",
   "execution_count": 130,
   "id": "29fe74cb-106b-4b18-bda3-de682f5ca2ab",
   "metadata": {},
   "outputs": [],
   "source": [
    "import seaborn as sns"
   ]
  },
  {
   "cell_type": "code",
   "execution_count": 131,
   "id": "234098b7-021e-43f2-a5dd-15d4ddede114",
   "metadata": {},
   "outputs": [
    {
     "name": "stderr",
     "output_type": "stream",
     "text": [
      "C:\\Users\\Asus\\anaconda31\\lib\\site-packages\\seaborn\\_decorators.py:36: FutureWarning: Pass the following variable as a keyword arg: x. From version 0.12, the only valid positional argument will be `data`, and passing other arguments without an explicit keyword will result in an error or misinterpretation.\n",
      "  warnings.warn(\n"
     ]
    },
    {
     "data": {
      "text/plain": [
       "<AxesSubplot:xlabel='Daysof Week', ylabel='count'>"
      ]
     },
     "execution_count": 131,
     "metadata": {},
     "output_type": "execute_result"
    },
    {
     "data": {
      "image/png": "[encoded data removed]",
      "text/plain": [
       "<Figure size 432x288 with 1 Axes>"
      ]
     },
     "metadata": {
      "needs_background": "light"
     },
     "output_type": "display_data"
    }
   ],
   "source": [
    "sns.countplot(retail['Daysof Week'])"
   ]
  },
  {
   "cell_type": "code",
   "execution_count": 132,
   "id": "8bc6f7f1-2154-49f0-9752-4b3598b7e458",
   "metadata": {},
   "outputs": [],
   "source": [
    "# retail['Inv Date']= pd.to_datetime(retail['InvoiceDate']).dt.strftime('%Y-%M-%D')"
   ]
  },
  {
   "cell_type": "code",
   "execution_count": 133,
   "id": "2797ab9f-f958-4fe5-b3fb-1b99d671e1bb",
   "metadata": {},
   "outputs": [],
   "source": [
    "grouped_retail=retail.groupby(['Description','InvDate']).agg(totes_sales=('Quantity','sum')).reset_index()"
   ]
  },
  {
   "cell_type": "code",
   "execution_count": 134,
   "id": "6a0a393c-3cb7-47f0-9282-e8c67c05d7d5",
   "metadata": {},
   "outputs": [
    {
     "data": {
      "text/html": [
       "<div>\n",
       "<style scoped>\n",
       "    .dataframe tbody tr th:only-of-type {\n",
       "        vertical-align: middle;\n",
       "    }\n",
       "\n",
       "    .dataframe tbody tr th {\n",
       "        vertical-align: top;\n",
       "    }\n",
       "\n",
       "    .dataframe thead th {\n",
       "        text-align: right;\n",
       "    }\n",
       "</style>\n",
       "<table border=\"1\" class=\"dataframe\">\n",
       "  <thead>\n",
       "    <tr style=\"text-align: right;\">\n",
       "      <th></th>\n",
       "      <th>Description</th>\n",
       "      <th>InvDate</th>\n",
       "      <th>totes_sales</th>\n",
       "    </tr>\n",
       "  </thead>\n",
       "  <tbody>\n",
       "    <tr>\n",
       "      <th>0</th>\n",
       "      <td>DOORMAT UNION JACK GUNS AND ROSES</td>\n",
       "      <td>2010-01-05</td>\n",
       "      <td>1</td>\n",
       "    </tr>\n",
       "    <tr>\n",
       "      <th>1</th>\n",
       "      <td>DOORMAT UNION JACK GUNS AND ROSES</td>\n",
       "      <td>2010-01-08</td>\n",
       "      <td>12</td>\n",
       "    </tr>\n",
       "    <tr>\n",
       "      <th>2</th>\n",
       "      <td>DOORMAT UNION JACK GUNS AND ROSES</td>\n",
       "      <td>2010-01-10</td>\n",
       "      <td>3</td>\n",
       "    </tr>\n",
       "    <tr>\n",
       "      <th>3</th>\n",
       "      <td>DOORMAT UNION JACK GUNS AND ROSES</td>\n",
       "      <td>2010-01-11</td>\n",
       "      <td>15</td>\n",
       "    </tr>\n",
       "    <tr>\n",
       "      <th>4</th>\n",
       "      <td>DOORMAT UNION JACK GUNS AND ROSES</td>\n",
       "      <td>2010-01-12</td>\n",
       "      <td>1</td>\n",
       "    </tr>\n",
       "    <tr>\n",
       "      <th>...</th>\n",
       "      <td>...</td>\n",
       "      <td>...</td>\n",
       "      <td>...</td>\n",
       "    </tr>\n",
       "    <tr>\n",
       "      <th>440441</th>\n",
       "      <td>ZINC WIRE SWEETHEART LETTER TRAY</td>\n",
       "      <td>2011-11-18</td>\n",
       "      <td>5</td>\n",
       "    </tr>\n",
       "    <tr>\n",
       "      <th>440442</th>\n",
       "      <td>ZINC WIRE SWEETHEART LETTER TRAY</td>\n",
       "      <td>2011-11-23</td>\n",
       "      <td>2</td>\n",
       "    </tr>\n",
       "    <tr>\n",
       "      <th>440443</th>\n",
       "      <td>ZINC WIRE SWEETHEART LETTER TRAY</td>\n",
       "      <td>2011-11-24</td>\n",
       "      <td>1</td>\n",
       "    </tr>\n",
       "    <tr>\n",
       "      <th>440444</th>\n",
       "      <td>ZINC WIRE SWEETHEART LETTER TRAY</td>\n",
       "      <td>2011-11-30</td>\n",
       "      <td>1</td>\n",
       "    </tr>\n",
       "    <tr>\n",
       "      <th>440445</th>\n",
       "      <td>ZINC WIRE SWEETHEART LETTER TRAY</td>\n",
       "      <td>2011-12-07</td>\n",
       "      <td>13</td>\n",
       "    </tr>\n",
       "  </tbody>\n",
       "</table>\n",
       "<p>440446 rows × 3 columns</p>\n",
       "</div>"
      ],
      "text/plain": [
       "                                Description    InvDate  totes_sales\n",
       "0         DOORMAT UNION JACK GUNS AND ROSES 2010-01-05            1\n",
       "1         DOORMAT UNION JACK GUNS AND ROSES 2010-01-08           12\n",
       "2         DOORMAT UNION JACK GUNS AND ROSES 2010-01-10            3\n",
       "3         DOORMAT UNION JACK GUNS AND ROSES 2010-01-11           15\n",
       "4         DOORMAT UNION JACK GUNS AND ROSES 2010-01-12            1\n",
       "...                                     ...        ...          ...\n",
       "440441     ZINC WIRE SWEETHEART LETTER TRAY 2011-11-18            5\n",
       "440442     ZINC WIRE SWEETHEART LETTER TRAY 2011-11-23            2\n",
       "440443     ZINC WIRE SWEETHEART LETTER TRAY 2011-11-24            1\n",
       "440444     ZINC WIRE SWEETHEART LETTER TRAY 2011-11-30            1\n",
       "440445     ZINC WIRE SWEETHEART LETTER TRAY 2011-12-07           13\n",
       "\n",
       "[440446 rows x 3 columns]"
      ]
     },
     "execution_count": 134,
     "metadata": {},
     "output_type": "execute_result"
    }
   ],
   "source": [
    "grouped_retail"
   ]
  },
  {
   "cell_type": "code",
   "execution_count": 135,
   "id": "b5867ba1-28c5-4478-bd17-b24aae7227cb",
   "metadata": {},
   "outputs": [],
   "source": [
    "cv_data= grouped_retail.groupby('Description').agg(average=('totes_sales','mean'), sd= ('totes_sales', 'std')).reset_index()"
   ]
  },
  {
   "cell_type": "code",
   "execution_count": 136,
   "id": "d5a99394-1243-448f-9a13-e4aee1516801",
   "metadata": {},
   "outputs": [
    {
     "data": {
      "text/html": [
       "<div>\n",
       "<style scoped>\n",
       "    .dataframe tbody tr th:only-of-type {\n",
       "        vertical-align: middle;\n",
       "    }\n",
       "\n",
       "    .dataframe tbody tr th {\n",
       "        vertical-align: top;\n",
       "    }\n",
       "\n",
       "    .dataframe thead th {\n",
       "        text-align: right;\n",
       "    }\n",
       "</style>\n",
       "<table border=\"1\" class=\"dataframe\">\n",
       "  <thead>\n",
       "    <tr style=\"text-align: right;\">\n",
       "      <th></th>\n",
       "      <th>Description</th>\n",
       "      <th>average</th>\n",
       "      <th>sd</th>\n",
       "    </tr>\n",
       "  </thead>\n",
       "  <tbody>\n",
       "    <tr>\n",
       "      <th>0</th>\n",
       "      <td>DOORMAT UNION JACK GUNS AND ROSES</td>\n",
       "      <td>6.958333</td>\n",
       "      <td>7.865606</td>\n",
       "    </tr>\n",
       "    <tr>\n",
       "      <th>1</th>\n",
       "      <td>3 STRIPEY MICE FELTCRAFT</td>\n",
       "      <td>11.220339</td>\n",
       "      <td>14.247889</td>\n",
       "    </tr>\n",
       "    <tr>\n",
       "      <th>2</th>\n",
       "      <td>4 PURPLE FLOCK DINNER CANDLES</td>\n",
       "      <td>7.363636</td>\n",
       "      <td>10.850123</td>\n",
       "    </tr>\n",
       "    <tr>\n",
       "      <th>3</th>\n",
       "      <td>50'S CHRISTMAS GIFT BAG LARGE</td>\n",
       "      <td>31.416667</td>\n",
       "      <td>55.502112</td>\n",
       "    </tr>\n",
       "    <tr>\n",
       "      <th>4</th>\n",
       "      <td>ANIMAL STICKERS</td>\n",
       "      <td>32.083333</td>\n",
       "      <td>11.758620</td>\n",
       "    </tr>\n",
       "    <tr>\n",
       "      <th>...</th>\n",
       "      <td>...</td>\n",
       "      <td>...</td>\n",
       "      <td>...</td>\n",
       "    </tr>\n",
       "    <tr>\n",
       "      <th>5278</th>\n",
       "      <td>ZINC T-LIGHT HOLDER STARS SMALL</td>\n",
       "      <td>36.522388</td>\n",
       "      <td>46.825017</td>\n",
       "    </tr>\n",
       "    <tr>\n",
       "      <th>5279</th>\n",
       "      <td>ZINC TOP  2 DOOR WOODEN SHELF</td>\n",
       "      <td>5.902439</td>\n",
       "      <td>7.598700</td>\n",
       "    </tr>\n",
       "    <tr>\n",
       "      <th>5280</th>\n",
       "      <td>ZINC WILLIE WINKIE  CANDLE STICK</td>\n",
       "      <td>21.116438</td>\n",
       "      <td>23.437864</td>\n",
       "    </tr>\n",
       "    <tr>\n",
       "      <th>5281</th>\n",
       "      <td>ZINC WIRE KITCHEN ORGANISER</td>\n",
       "      <td>2.500000</td>\n",
       "      <td>2.505549</td>\n",
       "    </tr>\n",
       "    <tr>\n",
       "      <th>5282</th>\n",
       "      <td>ZINC WIRE SWEETHEART LETTER TRAY</td>\n",
       "      <td>4.444444</td>\n",
       "      <td>5.772371</td>\n",
       "    </tr>\n",
       "  </tbody>\n",
       "</table>\n",
       "<p>5283 rows × 3 columns</p>\n",
       "</div>"
      ],
      "text/plain": [
       "                              Description    average         sd\n",
       "0       DOORMAT UNION JACK GUNS AND ROSES   6.958333   7.865606\n",
       "1                3 STRIPEY MICE FELTCRAFT  11.220339  14.247889\n",
       "2           4 PURPLE FLOCK DINNER CANDLES   7.363636  10.850123\n",
       "3           50'S CHRISTMAS GIFT BAG LARGE  31.416667  55.502112\n",
       "4                         ANIMAL STICKERS  32.083333  11.758620\n",
       "...                                   ...        ...        ...\n",
       "5278      ZINC T-LIGHT HOLDER STARS SMALL  36.522388  46.825017\n",
       "5279       ZINC TOP  2 DOOR WOODEN SHELF    5.902439   7.598700\n",
       "5280     ZINC WILLIE WINKIE  CANDLE STICK  21.116438  23.437864\n",
       "5281          ZINC WIRE KITCHEN ORGANISER   2.500000   2.505549\n",
       "5282     ZINC WIRE SWEETHEART LETTER TRAY   4.444444   5.772371\n",
       "\n",
       "[5283 rows x 3 columns]"
      ]
     },
     "execution_count": 136,
     "metadata": {},
     "output_type": "execute_result"
    }
   ],
   "source": [
    "cv_data"
   ]
  },
  {
   "cell_type": "code",
   "execution_count": 137,
   "id": "21b1a61e-28ee-443b-b185-223757041112",
   "metadata": {},
   "outputs": [
    {
     "data": {
      "text/html": [
       "<div>\n",
       "<style scoped>\n",
       "    .dataframe tbody tr th:only-of-type {\n",
       "        vertical-align: middle;\n",
       "    }\n",
       "\n",
       "    .dataframe tbody tr th {\n",
       "        vertical-align: top;\n",
       "    }\n",
       "\n",
       "    .dataframe thead th {\n",
       "        text-align: right;\n",
       "    }\n",
       "</style>\n",
       "<table border=\"1\" class=\"dataframe\">\n",
       "  <thead>\n",
       "    <tr style=\"text-align: right;\">\n",
       "      <th></th>\n",
       "      <th>Description</th>\n",
       "      <th>InvDate</th>\n",
       "      <th>totes_sales</th>\n",
       "    </tr>\n",
       "  </thead>\n",
       "  <tbody>\n",
       "    <tr>\n",
       "      <th>0</th>\n",
       "      <td>DOORMAT UNION JACK GUNS AND ROSES</td>\n",
       "      <td>2010-01-05</td>\n",
       "      <td>1</td>\n",
       "    </tr>\n",
       "    <tr>\n",
       "      <th>1</th>\n",
       "      <td>DOORMAT UNION JACK GUNS AND ROSES</td>\n",
       "      <td>2010-01-08</td>\n",
       "      <td>12</td>\n",
       "    </tr>\n",
       "    <tr>\n",
       "      <th>2</th>\n",
       "      <td>DOORMAT UNION JACK GUNS AND ROSES</td>\n",
       "      <td>2010-01-10</td>\n",
       "      <td>3</td>\n",
       "    </tr>\n",
       "    <tr>\n",
       "      <th>3</th>\n",
       "      <td>DOORMAT UNION JACK GUNS AND ROSES</td>\n",
       "      <td>2010-01-11</td>\n",
       "      <td>15</td>\n",
       "    </tr>\n",
       "    <tr>\n",
       "      <th>4</th>\n",
       "      <td>DOORMAT UNION JACK GUNS AND ROSES</td>\n",
       "      <td>2010-01-12</td>\n",
       "      <td>1</td>\n",
       "    </tr>\n",
       "    <tr>\n",
       "      <th>...</th>\n",
       "      <td>...</td>\n",
       "      <td>...</td>\n",
       "      <td>...</td>\n",
       "    </tr>\n",
       "    <tr>\n",
       "      <th>440441</th>\n",
       "      <td>ZINC WIRE SWEETHEART LETTER TRAY</td>\n",
       "      <td>2011-11-18</td>\n",
       "      <td>5</td>\n",
       "    </tr>\n",
       "    <tr>\n",
       "      <th>440442</th>\n",
       "      <td>ZINC WIRE SWEETHEART LETTER TRAY</td>\n",
       "      <td>2011-11-23</td>\n",
       "      <td>2</td>\n",
       "    </tr>\n",
       "    <tr>\n",
       "      <th>440443</th>\n",
       "      <td>ZINC WIRE SWEETHEART LETTER TRAY</td>\n",
       "      <td>2011-11-24</td>\n",
       "      <td>1</td>\n",
       "    </tr>\n",
       "    <tr>\n",
       "      <th>440444</th>\n",
       "      <td>ZINC WIRE SWEETHEART LETTER TRAY</td>\n",
       "      <td>2011-11-30</td>\n",
       "      <td>1</td>\n",
       "    </tr>\n",
       "    <tr>\n",
       "      <th>440445</th>\n",
       "      <td>ZINC WIRE SWEETHEART LETTER TRAY</td>\n",
       "      <td>2011-12-07</td>\n",
       "      <td>13</td>\n",
       "    </tr>\n",
       "  </tbody>\n",
       "</table>\n",
       "<p>440446 rows × 3 columns</p>\n",
       "</div>"
      ],
      "text/plain": [
       "                                Description    InvDate  totes_sales\n",
       "0         DOORMAT UNION JACK GUNS AND ROSES 2010-01-05            1\n",
       "1         DOORMAT UNION JACK GUNS AND ROSES 2010-01-08           12\n",
       "2         DOORMAT UNION JACK GUNS AND ROSES 2010-01-10            3\n",
       "3         DOORMAT UNION JACK GUNS AND ROSES 2010-01-11           15\n",
       "4         DOORMAT UNION JACK GUNS AND ROSES 2010-01-12            1\n",
       "...                                     ...        ...          ...\n",
       "440441     ZINC WIRE SWEETHEART LETTER TRAY 2011-11-18            5\n",
       "440442     ZINC WIRE SWEETHEART LETTER TRAY 2011-11-23            2\n",
       "440443     ZINC WIRE SWEETHEART LETTER TRAY 2011-11-24            1\n",
       "440444     ZINC WIRE SWEETHEART LETTER TRAY 2011-11-30            1\n",
       "440445     ZINC WIRE SWEETHEART LETTER TRAY 2011-12-07           13\n",
       "\n",
       "[440446 rows x 3 columns]"
      ]
     },
     "execution_count": 137,
     "metadata": {},
     "output_type": "execute_result"
    }
   ],
   "source": [
    "grouped_retail"
   ]
  },
  {
   "cell_type": "code",
   "execution_count": 138,
   "id": "5d5ab811-032b-43bb-b33c-8b1be71dadc6",
   "metadata": {},
   "outputs": [],
   "source": [
    "cv_data['coeff_var_sq']= (cv_data['sd']/cv_data['average'])**2"
   ]
  },
  {
   "cell_type": "code",
   "execution_count": 139,
   "id": "37f52091-4f87-4894-9026-70893e2c7b9f",
   "metadata": {},
   "outputs": [
    {
     "data": {
      "text/html": [
       "<div>\n",
       "<style scoped>\n",
       "    .dataframe tbody tr th:only-of-type {\n",
       "        vertical-align: middle;\n",
       "    }\n",
       "\n",
       "    .dataframe tbody tr th {\n",
       "        vertical-align: top;\n",
       "    }\n",
       "\n",
       "    .dataframe thead th {\n",
       "        text-align: right;\n",
       "    }\n",
       "</style>\n",
       "<table border=\"1\" class=\"dataframe\">\n",
       "  <thead>\n",
       "    <tr style=\"text-align: right;\">\n",
       "      <th></th>\n",
       "      <th>Description</th>\n",
       "      <th>average</th>\n",
       "      <th>sd</th>\n",
       "      <th>coeff_var_sq</th>\n",
       "    </tr>\n",
       "  </thead>\n",
       "  <tbody>\n",
       "    <tr>\n",
       "      <th>0</th>\n",
       "      <td>DOORMAT UNION JACK GUNS AND ROSES</td>\n",
       "      <td>6.958333</td>\n",
       "      <td>7.865606</td>\n",
       "      <td>1.277774</td>\n",
       "    </tr>\n",
       "    <tr>\n",
       "      <th>1</th>\n",
       "      <td>3 STRIPEY MICE FELTCRAFT</td>\n",
       "      <td>11.220339</td>\n",
       "      <td>14.247889</td>\n",
       "      <td>1.612460</td>\n",
       "    </tr>\n",
       "    <tr>\n",
       "      <th>2</th>\n",
       "      <td>4 PURPLE FLOCK DINNER CANDLES</td>\n",
       "      <td>7.363636</td>\n",
       "      <td>10.850123</td>\n",
       "      <td>2.171124</td>\n",
       "    </tr>\n",
       "    <tr>\n",
       "      <th>3</th>\n",
       "      <td>50'S CHRISTMAS GIFT BAG LARGE</td>\n",
       "      <td>31.416667</td>\n",
       "      <td>55.502112</td>\n",
       "      <td>3.121036</td>\n",
       "    </tr>\n",
       "    <tr>\n",
       "      <th>4</th>\n",
       "      <td>ANIMAL STICKERS</td>\n",
       "      <td>32.083333</td>\n",
       "      <td>11.758620</td>\n",
       "      <td>0.134324</td>\n",
       "    </tr>\n",
       "    <tr>\n",
       "      <th>...</th>\n",
       "      <td>...</td>\n",
       "      <td>...</td>\n",
       "      <td>...</td>\n",
       "      <td>...</td>\n",
       "    </tr>\n",
       "    <tr>\n",
       "      <th>5278</th>\n",
       "      <td>ZINC T-LIGHT HOLDER STARS SMALL</td>\n",
       "      <td>36.522388</td>\n",
       "      <td>46.825017</td>\n",
       "      <td>1.643757</td>\n",
       "    </tr>\n",
       "    <tr>\n",
       "      <th>5279</th>\n",
       "      <td>ZINC TOP  2 DOOR WOODEN SHELF</td>\n",
       "      <td>5.902439</td>\n",
       "      <td>7.598700</td>\n",
       "      <td>1.657355</td>\n",
       "    </tr>\n",
       "    <tr>\n",
       "      <th>5280</th>\n",
       "      <td>ZINC WILLIE WINKIE  CANDLE STICK</td>\n",
       "      <td>21.116438</td>\n",
       "      <td>23.437864</td>\n",
       "      <td>1.231955</td>\n",
       "    </tr>\n",
       "    <tr>\n",
       "      <th>5281</th>\n",
       "      <td>ZINC WIRE KITCHEN ORGANISER</td>\n",
       "      <td>2.500000</td>\n",
       "      <td>2.505549</td>\n",
       "      <td>1.004444</td>\n",
       "    </tr>\n",
       "    <tr>\n",
       "      <th>5282</th>\n",
       "      <td>ZINC WIRE SWEETHEART LETTER TRAY</td>\n",
       "      <td>4.444444</td>\n",
       "      <td>5.772371</td>\n",
       "      <td>1.686838</td>\n",
       "    </tr>\n",
       "  </tbody>\n",
       "</table>\n",
       "<p>5283 rows × 4 columns</p>\n",
       "</div>"
      ],
      "text/plain": [
       "                              Description    average         sd  coeff_var_sq\n",
       "0       DOORMAT UNION JACK GUNS AND ROSES   6.958333   7.865606      1.277774\n",
       "1                3 STRIPEY MICE FELTCRAFT  11.220339  14.247889      1.612460\n",
       "2           4 PURPLE FLOCK DINNER CANDLES   7.363636  10.850123      2.171124\n",
       "3           50'S CHRISTMAS GIFT BAG LARGE  31.416667  55.502112      3.121036\n",
       "4                         ANIMAL STICKERS  32.083333  11.758620      0.134324\n",
       "...                                   ...        ...        ...           ...\n",
       "5278      ZINC T-LIGHT HOLDER STARS SMALL  36.522388  46.825017      1.643757\n",
       "5279       ZINC TOP  2 DOOR WOODEN SHELF    5.902439   7.598700      1.657355\n",
       "5280     ZINC WILLIE WINKIE  CANDLE STICK  21.116438  23.437864      1.231955\n",
       "5281          ZINC WIRE KITCHEN ORGANISER   2.500000   2.505549      1.004444\n",
       "5282     ZINC WIRE SWEETHEART LETTER TRAY   4.444444   5.772371      1.686838\n",
       "\n",
       "[5283 rows x 4 columns]"
      ]
     },
     "execution_count": 139,
     "metadata": {},
     "output_type": "execute_result"
    }
   ],
   "source": [
    "cv_data"
   ]
  },
  {
   "cell_type": "code",
   "execution_count": 140,
   "id": "240639be-156b-4129-97a7-118f06d15573",
   "metadata": {},
   "outputs": [],
   "source": [
    "prod_bydate=retail.groupby(['Description','InvDate']).agg(totes_sales=('Description','count')).reset_index()"
   ]
  },
  {
   "cell_type": "code",
   "execution_count": 141,
   "id": "a82d9bee-fc4d-41c8-a58b-43d8219b0ac4",
   "metadata": {},
   "outputs": [],
   "source": [
    "skus= prod_bydate['Description'].unique()"
   ]
  },
  {
   "cell_type": "code",
   "execution_count": 142,
   "id": "896fd2ca-518f-43e8-ac2a-c7fa470a1c45",
   "metadata": {},
   "outputs": [
    {
     "data": {
      "text/plain": [
       "array(['  DOORMAT UNION JACK GUNS AND ROSES', ' 3 STRIPEY MICE FELTCRAFT',\n",
       "       ' 4 PURPLE FLOCK DINNER CANDLES', ...,\n",
       "       'ZINC WILLIE WINKIE  CANDLE STICK', 'ZINC WIRE KITCHEN ORGANISER',\n",
       "       'ZINC WIRE SWEETHEART LETTER TRAY'], dtype=object)"
      ]
     },
     "execution_count": 142,
     "metadata": {},
     "output_type": "execute_result"
    }
   ],
   "source": [
    "skus"
   ]
  },
  {
   "cell_type": "code",
   "execution_count": 143,
   "id": "09ef1cc7-5a08-48ac-b355-9be6cbea3748",
   "metadata": {},
   "outputs": [
    {
     "data": {
      "text/html": [
       "<div>\n",
       "<style scoped>\n",
       "    .dataframe tbody tr th:only-of-type {\n",
       "        vertical-align: middle;\n",
       "    }\n",
       "\n",
       "    .dataframe tbody tr th {\n",
       "        vertical-align: top;\n",
       "    }\n",
       "\n",
       "    .dataframe thead th {\n",
       "        text-align: right;\n",
       "    }\n",
       "</style>\n",
       "<table border=\"1\" class=\"dataframe\">\n",
       "  <thead>\n",
       "    <tr style=\"text-align: right;\">\n",
       "      <th></th>\n",
       "      <th>Description</th>\n",
       "      <th>InvDate</th>\n",
       "      <th>totes_sales</th>\n",
       "    </tr>\n",
       "  </thead>\n",
       "  <tbody>\n",
       "    <tr>\n",
       "      <th>0</th>\n",
       "      <td>DOORMAT UNION JACK GUNS AND ROSES</td>\n",
       "      <td>2010-01-05</td>\n",
       "      <td>1</td>\n",
       "    </tr>\n",
       "    <tr>\n",
       "      <th>1</th>\n",
       "      <td>DOORMAT UNION JACK GUNS AND ROSES</td>\n",
       "      <td>2010-01-08</td>\n",
       "      <td>3</td>\n",
       "    </tr>\n",
       "    <tr>\n",
       "      <th>2</th>\n",
       "      <td>DOORMAT UNION JACK GUNS AND ROSES</td>\n",
       "      <td>2010-01-10</td>\n",
       "      <td>1</td>\n",
       "    </tr>\n",
       "    <tr>\n",
       "      <th>3</th>\n",
       "      <td>DOORMAT UNION JACK GUNS AND ROSES</td>\n",
       "      <td>2010-01-11</td>\n",
       "      <td>2</td>\n",
       "    </tr>\n",
       "    <tr>\n",
       "      <th>4</th>\n",
       "      <td>DOORMAT UNION JACK GUNS AND ROSES</td>\n",
       "      <td>2010-01-12</td>\n",
       "      <td>1</td>\n",
       "    </tr>\n",
       "    <tr>\n",
       "      <th>...</th>\n",
       "      <td>...</td>\n",
       "      <td>...</td>\n",
       "      <td>...</td>\n",
       "    </tr>\n",
       "    <tr>\n",
       "      <th>440441</th>\n",
       "      <td>ZINC WIRE SWEETHEART LETTER TRAY</td>\n",
       "      <td>2011-11-18</td>\n",
       "      <td>2</td>\n",
       "    </tr>\n",
       "    <tr>\n",
       "      <th>440442</th>\n",
       "      <td>ZINC WIRE SWEETHEART LETTER TRAY</td>\n",
       "      <td>2011-11-23</td>\n",
       "      <td>1</td>\n",
       "    </tr>\n",
       "    <tr>\n",
       "      <th>440443</th>\n",
       "      <td>ZINC WIRE SWEETHEART LETTER TRAY</td>\n",
       "      <td>2011-11-24</td>\n",
       "      <td>1</td>\n",
       "    </tr>\n",
       "    <tr>\n",
       "      <th>440444</th>\n",
       "      <td>ZINC WIRE SWEETHEART LETTER TRAY</td>\n",
       "      <td>2011-11-30</td>\n",
       "      <td>1</td>\n",
       "    </tr>\n",
       "    <tr>\n",
       "      <th>440445</th>\n",
       "      <td>ZINC WIRE SWEETHEART LETTER TRAY</td>\n",
       "      <td>2011-12-07</td>\n",
       "      <td>2</td>\n",
       "    </tr>\n",
       "  </tbody>\n",
       "</table>\n",
       "<p>440446 rows × 3 columns</p>\n",
       "</div>"
      ],
      "text/plain": [
       "                                Description    InvDate  totes_sales\n",
       "0         DOORMAT UNION JACK GUNS AND ROSES 2010-01-05            1\n",
       "1         DOORMAT UNION JACK GUNS AND ROSES 2010-01-08            3\n",
       "2         DOORMAT UNION JACK GUNS AND ROSES 2010-01-10            1\n",
       "3         DOORMAT UNION JACK GUNS AND ROSES 2010-01-11            2\n",
       "4         DOORMAT UNION JACK GUNS AND ROSES 2010-01-12            1\n",
       "...                                     ...        ...          ...\n",
       "440441     ZINC WIRE SWEETHEART LETTER TRAY 2011-11-18            2\n",
       "440442     ZINC WIRE SWEETHEART LETTER TRAY 2011-11-23            1\n",
       "440443     ZINC WIRE SWEETHEART LETTER TRAY 2011-11-24            1\n",
       "440444     ZINC WIRE SWEETHEART LETTER TRAY 2011-11-30            1\n",
       "440445     ZINC WIRE SWEETHEART LETTER TRAY 2011-12-07            2\n",
       "\n",
       "[440446 rows x 3 columns]"
      ]
     },
     "execution_count": 143,
     "metadata": {},
     "output_type": "execute_result"
    }
   ],
   "source": [
    "prod_bydate"
   ]
  },
  {
   "cell_type": "code",
   "execution_count": 146,
   "id": "8ecb23e7-cd40-42b0-98f6-569a4224c4b4",
   "metadata": {},
   "outputs": [
    {
     "data": {
      "text/plain": [
       "<AxesSubplot:xlabel='totes_sales', ylabel='Count'>"
      ]
     },
     "execution_count": 146,
     "metadata": {},
     "output_type": "execute_result"
    },
    {
     "data": {
      "image/png": "[encoded data removed]",
      "text/plain": [
       "<Figure size 432x288 with 1 Axes>"
      ]
     },
     "metadata": {
      "needs_background": "light"
     },
     "output_type": "display_data"
    }
   ],
   "source": [
    "sns.histplot(prod_bydate[prod_bydate['Description']=='DOORMAT UNION JACK GUNS AND ROSES']['totes_sales'])"
   ]
  },
  {
   "cell_type": "code",
   "execution_count": 148,
   "id": "50e44c48-362c-468e-ab5f-25d418dd7f53",
   "metadata": {},
   "outputs": [
    {
     "data": {
      "application/javascript": [
       "\n",
       "        if (window._pyforest_update_imports_cell) { window._pyforest_update_imports_cell('import matplotlib.pyplot as plt'); }\n",
       "    "
      ],
      "text/plain": [
       "<IPython.core.display.Javascript object>"
      ]
     },
     "metadata": {},
     "output_type": "display_data"
    },
    {
     "data": {
      "text/plain": [
       "[<matplotlib.lines.Line2D at 0x23e7f10d4f0>]"
      ]
     },
     "execution_count": 148,
     "metadata": {},
     "output_type": "execute_result"
    },
    {
     "data": {
      "image/png": "[encoded data removed]",
      "text/plain": [
       "<Figure size 432x288 with 1 Axes>"
      ]
     },
     "metadata": {
      "needs_background": "light"
     },
     "output_type": "display_data"
    }
   ],
   "source": [
    "plt.plot(prod_bydate[prod_bydate['Description']=='DOORMAT UNION JACK GUNS AND ROSES']['totes_sales'])"
   ]
  },
  {
   "cell_type": "code",
   "execution_count": 149,
   "id": "859f5ead-29aa-47ee-9b1c-bfb410ddb602",
   "metadata": {},
   "outputs": [],
   "source": [
    "prod_bydate['Prev_Date']= prod_bydate['InvDate'].shift(1)"
   ]
  },
  {
   "cell_type": "code",
   "execution_count": 151,
   "id": "81888e32-3577-4d70-bdaf-695cc39b5234",
   "metadata": {},
   "outputs": [
    {
     "data": {
      "text/html": [
       "<div>\n",
       "<style scoped>\n",
       "    .dataframe tbody tr th:only-of-type {\n",
       "        vertical-align: middle;\n",
       "    }\n",
       "\n",
       "    .dataframe tbody tr th {\n",
       "        vertical-align: top;\n",
       "    }\n",
       "\n",
       "    .dataframe thead th {\n",
       "        text-align: right;\n",
       "    }\n",
       "</style>\n",
       "<table border=\"1\" class=\"dataframe\">\n",
       "  <thead>\n",
       "    <tr style=\"text-align: right;\">\n",
       "      <th></th>\n",
       "      <th>Description</th>\n",
       "      <th>InvDate</th>\n",
       "      <th>totes_sales</th>\n",
       "      <th>Prev_Date</th>\n",
       "    </tr>\n",
       "  </thead>\n",
       "  <tbody>\n",
       "    <tr>\n",
       "      <th>0</th>\n",
       "      <td>DOORMAT UNION JACK GUNS AND ROSES</td>\n",
       "      <td>2010-01-05</td>\n",
       "      <td>1</td>\n",
       "      <td>NaT</td>\n",
       "    </tr>\n",
       "    <tr>\n",
       "      <th>1</th>\n",
       "      <td>DOORMAT UNION JACK GUNS AND ROSES</td>\n",
       "      <td>2010-01-08</td>\n",
       "      <td>3</td>\n",
       "      <td>2010-01-05</td>\n",
       "    </tr>\n",
       "    <tr>\n",
       "      <th>2</th>\n",
       "      <td>DOORMAT UNION JACK GUNS AND ROSES</td>\n",
       "      <td>2010-01-10</td>\n",
       "      <td>1</td>\n",
       "      <td>2010-01-08</td>\n",
       "    </tr>\n",
       "    <tr>\n",
       "      <th>3</th>\n",
       "      <td>DOORMAT UNION JACK GUNS AND ROSES</td>\n",
       "      <td>2010-01-11</td>\n",
       "      <td>2</td>\n",
       "      <td>2010-01-10</td>\n",
       "    </tr>\n",
       "    <tr>\n",
       "      <th>4</th>\n",
       "      <td>DOORMAT UNION JACK GUNS AND ROSES</td>\n",
       "      <td>2010-01-12</td>\n",
       "      <td>1</td>\n",
       "      <td>2010-01-11</td>\n",
       "    </tr>\n",
       "    <tr>\n",
       "      <th>...</th>\n",
       "      <td>...</td>\n",
       "      <td>...</td>\n",
       "      <td>...</td>\n",
       "      <td>...</td>\n",
       "    </tr>\n",
       "    <tr>\n",
       "      <th>440441</th>\n",
       "      <td>ZINC WIRE SWEETHEART LETTER TRAY</td>\n",
       "      <td>2011-11-18</td>\n",
       "      <td>2</td>\n",
       "      <td>2011-10-27</td>\n",
       "    </tr>\n",
       "    <tr>\n",
       "      <th>440442</th>\n",
       "      <td>ZINC WIRE SWEETHEART LETTER TRAY</td>\n",
       "      <td>2011-11-23</td>\n",
       "      <td>1</td>\n",
       "      <td>2011-11-18</td>\n",
       "    </tr>\n",
       "    <tr>\n",
       "      <th>440443</th>\n",
       "      <td>ZINC WIRE SWEETHEART LETTER TRAY</td>\n",
       "      <td>2011-11-24</td>\n",
       "      <td>1</td>\n",
       "      <td>2011-11-23</td>\n",
       "    </tr>\n",
       "    <tr>\n",
       "      <th>440444</th>\n",
       "      <td>ZINC WIRE SWEETHEART LETTER TRAY</td>\n",
       "      <td>2011-11-30</td>\n",
       "      <td>1</td>\n",
       "      <td>2011-11-24</td>\n",
       "    </tr>\n",
       "    <tr>\n",
       "      <th>440445</th>\n",
       "      <td>ZINC WIRE SWEETHEART LETTER TRAY</td>\n",
       "      <td>2011-12-07</td>\n",
       "      <td>2</td>\n",
       "      <td>2011-11-30</td>\n",
       "    </tr>\n",
       "  </tbody>\n",
       "</table>\n",
       "<p>440446 rows × 4 columns</p>\n",
       "</div>"
      ],
      "text/plain": [
       "                                Description    InvDate  totes_sales  Prev_Date\n",
       "0         DOORMAT UNION JACK GUNS AND ROSES 2010-01-05            1        NaT\n",
       "1         DOORMAT UNION JACK GUNS AND ROSES 2010-01-08            3 2010-01-05\n",
       "2         DOORMAT UNION JACK GUNS AND ROSES 2010-01-10            1 2010-01-08\n",
       "3         DOORMAT UNION JACK GUNS AND ROSES 2010-01-11            2 2010-01-10\n",
       "4         DOORMAT UNION JACK GUNS AND ROSES 2010-01-12            1 2010-01-11\n",
       "...                                     ...        ...          ...        ...\n",
       "440441     ZINC WIRE SWEETHEART LETTER TRAY 2011-11-18            2 2011-10-27\n",
       "440442     ZINC WIRE SWEETHEART LETTER TRAY 2011-11-23            1 2011-11-18\n",
       "440443     ZINC WIRE SWEETHEART LETTER TRAY 2011-11-24            1 2011-11-23\n",
       "440444     ZINC WIRE SWEETHEART LETTER TRAY 2011-11-30            1 2011-11-24\n",
       "440445     ZINC WIRE SWEETHEART LETTER TRAY 2011-12-07            2 2011-11-30\n",
       "\n",
       "[440446 rows x 4 columns]"
      ]
     },
     "execution_count": 151,
     "metadata": {},
     "output_type": "execute_result"
    }
   ],
   "source": [
    "prod_bydate"
   ]
  },
  {
   "cell_type": "code",
   "execution_count": 152,
   "id": "83aaeca5-12ac-4a93-944a-65756de4cfea",
   "metadata": {},
   "outputs": [],
   "source": [
    "prod_bydate['inter_order_time']= prod_bydate['InvDate']-prod_bydate['Prev_Date']"
   ]
  },
  {
   "cell_type": "code",
   "execution_count": 157,
   "id": "9d88ea1f-d6c4-4b27-a4e7-b1929be4e180",
   "metadata": {},
   "outputs": [
    {
     "data": {
      "text/plain": [
       "0         <NA>\n",
       "1            3\n",
       "2            2\n",
       "3            1\n",
       "4            1\n",
       "          ... \n",
       "440441      22\n",
       "440442       5\n",
       "440443       1\n",
       "440444       6\n",
       "440445       7\n",
       "Name: 0, Length: 440446, dtype: string"
      ]
     },
     "execution_count": 157,
     "metadata": {},
     "output_type": "execute_result"
    }
   ],
   "source": [
    "(prod_bydate['inter_order_time']).astype('string').str.split(\" \", expand=True)[0]"
   ]
  },
  {
   "cell_type": "code",
   "execution_count": 158,
   "id": "c69ec6a7-61ae-4cf4-b17e-1efee4bbb5ef",
   "metadata": {},
   "outputs": [],
   "source": [
    "prod_bydate['Inter_Order_Times']= (prod_bydate['inter_order_time']).astype('string').str.split(\" \", expand=True)[0]"
   ]
  },
  {
   "cell_type": "code",
   "execution_count": 166,
   "id": "ac2ac0a2-ef09-4b1e-9f47-05994e7c8754",
   "metadata": {},
   "outputs": [],
   "source": [
    "prod_bydate['Days']= [None]* prod_bydate.shape[0]"
   ]
  },
  {
   "cell_type": "code",
   "execution_count": 167,
   "id": "3e4ae8ca-8b2d-4bbc-9c50-5d3472ff82b5",
   "metadata": {},
   "outputs": [
    {
     "data": {
      "text/html": [
       "<div>\n",
       "<style scoped>\n",
       "    .dataframe tbody tr th:only-of-type {\n",
       "        vertical-align: middle;\n",
       "    }\n",
       "\n",
       "    .dataframe tbody tr th {\n",
       "        vertical-align: top;\n",
       "    }\n",
       "\n",
       "    .dataframe thead th {\n",
       "        text-align: right;\n",
       "    }\n",
       "</style>\n",
       "<table border=\"1\" class=\"dataframe\">\n",
       "  <thead>\n",
       "    <tr style=\"text-align: right;\">\n",
       "      <th></th>\n",
       "      <th>Description</th>\n",
       "      <th>InvDate</th>\n",
       "      <th>totes_sales</th>\n",
       "      <th>Prev_Date</th>\n",
       "      <th>inter_order_time</th>\n",
       "      <th>Inter_Order_Times</th>\n",
       "      <th>Days</th>\n",
       "    </tr>\n",
       "  </thead>\n",
       "  <tbody>\n",
       "    <tr>\n",
       "      <th>0</th>\n",
       "      <td>DOORMAT UNION JACK GUNS AND ROSES</td>\n",
       "      <td>2010-01-05</td>\n",
       "      <td>1</td>\n",
       "      <td>NaT</td>\n",
       "      <td>NaT</td>\n",
       "      <td>&lt;NA&gt;</td>\n",
       "      <td>None</td>\n",
       "    </tr>\n",
       "    <tr>\n",
       "      <th>1</th>\n",
       "      <td>DOORMAT UNION JACK GUNS AND ROSES</td>\n",
       "      <td>2010-01-08</td>\n",
       "      <td>3</td>\n",
       "      <td>2010-01-05</td>\n",
       "      <td>3 days</td>\n",
       "      <td>3</td>\n",
       "      <td>None</td>\n",
       "    </tr>\n",
       "    <tr>\n",
       "      <th>2</th>\n",
       "      <td>DOORMAT UNION JACK GUNS AND ROSES</td>\n",
       "      <td>2010-01-10</td>\n",
       "      <td>1</td>\n",
       "      <td>2010-01-08</td>\n",
       "      <td>2 days</td>\n",
       "      <td>2</td>\n",
       "      <td>None</td>\n",
       "    </tr>\n",
       "    <tr>\n",
       "      <th>3</th>\n",
       "      <td>DOORMAT UNION JACK GUNS AND ROSES</td>\n",
       "      <td>2010-01-11</td>\n",
       "      <td>2</td>\n",
       "      <td>2010-01-10</td>\n",
       "      <td>1 days</td>\n",
       "      <td>1</td>\n",
       "      <td>None</td>\n",
       "    </tr>\n",
       "    <tr>\n",
       "      <th>4</th>\n",
       "      <td>DOORMAT UNION JACK GUNS AND ROSES</td>\n",
       "      <td>2010-01-12</td>\n",
       "      <td>1</td>\n",
       "      <td>2010-01-11</td>\n",
       "      <td>1 days</td>\n",
       "      <td>1</td>\n",
       "      <td>None</td>\n",
       "    </tr>\n",
       "    <tr>\n",
       "      <th>...</th>\n",
       "      <td>...</td>\n",
       "      <td>...</td>\n",
       "      <td>...</td>\n",
       "      <td>...</td>\n",
       "      <td>...</td>\n",
       "      <td>...</td>\n",
       "      <td>...</td>\n",
       "    </tr>\n",
       "    <tr>\n",
       "      <th>440441</th>\n",
       "      <td>ZINC WIRE SWEETHEART LETTER TRAY</td>\n",
       "      <td>2011-11-18</td>\n",
       "      <td>2</td>\n",
       "      <td>2011-10-27</td>\n",
       "      <td>22 days</td>\n",
       "      <td>22</td>\n",
       "      <td>None</td>\n",
       "    </tr>\n",
       "    <tr>\n",
       "      <th>440442</th>\n",
       "      <td>ZINC WIRE SWEETHEART LETTER TRAY</td>\n",
       "      <td>2011-11-23</td>\n",
       "      <td>1</td>\n",
       "      <td>2011-11-18</td>\n",
       "      <td>5 days</td>\n",
       "      <td>5</td>\n",
       "      <td>None</td>\n",
       "    </tr>\n",
       "    <tr>\n",
       "      <th>440443</th>\n",
       "      <td>ZINC WIRE SWEETHEART LETTER TRAY</td>\n",
       "      <td>2011-11-24</td>\n",
       "      <td>1</td>\n",
       "      <td>2011-11-23</td>\n",
       "      <td>1 days</td>\n",
       "      <td>1</td>\n",
       "      <td>None</td>\n",
       "    </tr>\n",
       "    <tr>\n",
       "      <th>440444</th>\n",
       "      <td>ZINC WIRE SWEETHEART LETTER TRAY</td>\n",
       "      <td>2011-11-30</td>\n",
       "      <td>1</td>\n",
       "      <td>2011-11-24</td>\n",
       "      <td>6 days</td>\n",
       "      <td>6</td>\n",
       "      <td>None</td>\n",
       "    </tr>\n",
       "    <tr>\n",
       "      <th>440445</th>\n",
       "      <td>ZINC WIRE SWEETHEART LETTER TRAY</td>\n",
       "      <td>2011-12-07</td>\n",
       "      <td>2</td>\n",
       "      <td>2011-11-30</td>\n",
       "      <td>7 days</td>\n",
       "      <td>7</td>\n",
       "      <td>None</td>\n",
       "    </tr>\n",
       "  </tbody>\n",
       "</table>\n",
       "<p>440446 rows × 7 columns</p>\n",
       "</div>"
      ],
      "text/plain": [
       "                                Description    InvDate  totes_sales  \\\n",
       "0         DOORMAT UNION JACK GUNS AND ROSES 2010-01-05            1   \n",
       "1         DOORMAT UNION JACK GUNS AND ROSES 2010-01-08            3   \n",
       "2         DOORMAT UNION JACK GUNS AND ROSES 2010-01-10            1   \n",
       "3         DOORMAT UNION JACK GUNS AND ROSES 2010-01-11            2   \n",
       "4         DOORMAT UNION JACK GUNS AND ROSES 2010-01-12            1   \n",
       "...                                     ...        ...          ...   \n",
       "440441     ZINC WIRE SWEETHEART LETTER TRAY 2011-11-18            2   \n",
       "440442     ZINC WIRE SWEETHEART LETTER TRAY 2011-11-23            1   \n",
       "440443     ZINC WIRE SWEETHEART LETTER TRAY 2011-11-24            1   \n",
       "440444     ZINC WIRE SWEETHEART LETTER TRAY 2011-11-30            1   \n",
       "440445     ZINC WIRE SWEETHEART LETTER TRAY 2011-12-07            2   \n",
       "\n",
       "        Prev_Date inter_order_time Inter_Order_Times  Days  \n",
       "0             NaT              NaT              <NA>  None  \n",
       "1      2010-01-05           3 days                 3  None  \n",
       "2      2010-01-08           2 days                 2  None  \n",
       "3      2010-01-10           1 days                 1  None  \n",
       "4      2010-01-11           1 days                 1  None  \n",
       "...           ...              ...               ...   ...  \n",
       "440441 2011-10-27          22 days                22  None  \n",
       "440442 2011-11-18           5 days                 5  None  \n",
       "440443 2011-11-23           1 days                 1  None  \n",
       "440444 2011-11-24           6 days                 6  None  \n",
       "440445 2011-11-30           7 days                 7  None  \n",
       "\n",
       "[440446 rows x 7 columns]"
      ]
     },
     "execution_count": 167,
     "metadata": {},
     "output_type": "execute_result"
    }
   ],
   "source": [
    "prod_bydate"
   ]
  },
  {
   "cell_type": "code",
   "execution_count": 168,
   "id": "21835f61-5d68-4843-b85a-9d71ffaa5e3b",
   "metadata": {},
   "outputs": [
    {
     "name": "stderr",
     "output_type": "stream",
     "text": [
      "<ipython-input-168-c8e79b9f0d1c>:1: SettingWithCopyWarning: \n",
      "A value is trying to be set on a copy of a slice from a DataFrame\n",
      "\n",
      "See the caveats in the documentation: https://pandas.pydata.org/pandas-docs/stable/user_guide/indexing.html#returning-a-view-versus-a-copy\n",
      "  prod_bydate['Days'][1:]=prod_bydate['Inter_Order_Times'][1:]\n"
     ]
    }
   ],
   "source": [
    "prod_bydate['Days'][1:]=prod_bydate['Inter_Order_Times'][1:]"
   ]
  },
  {
   "cell_type": "code",
   "execution_count": null,
   "id": "d05bee78-db0a-46ce-8cdd-c19cfc32053d",
   "metadata": {},
   "outputs": [],
   "source": []
  },
  {
   "cell_type": "code",
   "execution_count": 180,
   "id": "a3b63ffa-b44b-49ad-a30b-27287e12123f",
   "metadata": {},
   "outputs": [],
   "source": [
    "prod_bydate['Days']=prod_bydate['Days'].astype('int', errors='ignore')"
   ]
  },
  {
   "cell_type": "code",
   "execution_count": 181,
   "id": "209ad7e4-b3ec-4718-8d3c-8e9178655a68",
   "metadata": {},
   "outputs": [
    {
     "data": {
      "text/plain": [
       "dtype('O')"
      ]
     },
     "execution_count": 181,
     "metadata": {},
     "output_type": "execute_result"
    }
   ],
   "source": [
    "prod_bydate['Days'].dtypes"
   ]
  },
  {
   "cell_type": "code",
   "execution_count": 186,
   "id": "622de1f7-c5d1-4024-befc-284a7160bce0",
   "metadata": {},
   "outputs": [],
   "source": [
    "prod_bydate['Days']=pd.to_numeric(prod_bydate['Days'], errors= 'coerce')"
   ]
  },
  {
   "cell_type": "code",
   "execution_count": 187,
   "id": "d130e1c5-655c-4fe0-9a51-2a2464e35bed",
   "metadata": {},
   "outputs": [
    {
     "data": {
      "text/plain": [
       "dtype('float64')"
      ]
     },
     "execution_count": 187,
     "metadata": {},
     "output_type": "execute_result"
    }
   ],
   "source": [
    "prod_bydate['Days'].dtypes"
   ]
  },
  {
   "cell_type": "code",
   "execution_count": 197,
   "id": "26e9994d-b965-45ea-9e2c-2581a2593e2f",
   "metadata": {},
   "outputs": [],
   "source": [
    "cv_data['ADI']=  prod_bydate.groupby('Description').agg(ADI= ('Days','mean')).values\n"
   ]
  },
  {
   "cell_type": "code",
   "execution_count": 200,
   "id": "28080bbd-5569-4a2b-b222-026f8015b469",
   "metadata": {},
   "outputs": [
    {
     "data": {
      "text/plain": [
       "dtype('float64')"
      ]
     },
     "execution_count": 200,
     "metadata": {},
     "output_type": "execute_result"
    }
   ],
   "source": [
    "cv_data['ADI'].dtypes"
   ]
  },
  {
   "cell_type": "code",
   "execution_count": null,
   "id": "d3a85c1b-eb8e-40cb-8716-0a79f08136db",
   "metadata": {},
   "outputs": [],
   "source": []
  }
 ],
 "metadata": {
  "kernelspec": {
   "display_name": "Python 3",
   "language": "python",
   "name": "python3"
  },
  "language_info": {
   "codemirror_mode": {
    "name": "ipython",
    "version": 3
   },
   "file_extension": ".py",
   "mimetype": "text/x-python",
   "name": "python",
   "nbconvert_exporter": "python",
   "pygments_lexer": "ipython3",
   "version": "3.8.5"
  }
 },
 "nbformat": 4,
 "nbformat_minor": 5
}
