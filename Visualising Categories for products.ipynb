{
 "cells": [
  {
   "cell_type": "code",
   "execution_count": 221,
   "id": "69abde2e-5cc3-4b95-b86c-13dd3e8d8a9a",
   "metadata": {},
   "outputs": [],
   "source": [
    "path= r\"D:\\Asus\\Documents\\retail_clean (1).csv\""
   ]
  },
  {
   "cell_type": "code",
   "execution_count": 222,
   "id": "3fa72597-3f39-4084-aef9-743ed933832f",
   "metadata": {},
   "outputs": [],
   "source": [
    "import pandas as pd"
   ]
  },
  {
   "cell_type": "code",
   "execution_count": 223,
   "id": "bdbe744a-8a4a-4222-b6d3-f83fca231b9c",
   "metadata": {},
   "outputs": [],
   "source": [
    "retail= pd.read_csv(path,index_col='Unnamed: 0')"
   ]
  },
  {
   "cell_type": "code",
   "execution_count": 224,
   "id": "832fd4b2-c235-438a-ad1f-fdbd5de39e6a",
   "metadata": {},
   "outputs": [
    {
     "data": {
      "text/html": [
       "<div>\n",
       "<style scoped>\n",
       "    .dataframe tbody tr th:only-of-type {\n",
       "        vertical-align: middle;\n",
       "    }\n",
       "\n",
       "    .dataframe tbody tr th {\n",
       "        vertical-align: top;\n",
       "    }\n",
       "\n",
       "    .dataframe thead th {\n",
       "        text-align: right;\n",
       "    }\n",
       "</style>\n",
       "<table border=\"1\" class=\"dataframe\">\n",
       "  <thead>\n",
       "    <tr style=\"text-align: right;\">\n",
       "      <th></th>\n",
       "      <th>Invoice</th>\n",
       "      <th>StockCode</th>\n",
       "      <th>Description</th>\n",
       "      <th>Quantity</th>\n",
       "      <th>InvoiceDate</th>\n",
       "      <th>Price</th>\n",
       "      <th>Customer ID</th>\n",
       "      <th>Country</th>\n",
       "      <th>Revenue</th>\n",
       "    </tr>\n",
       "  </thead>\n",
       "  <tbody>\n",
       "    <tr>\n",
       "      <th>0</th>\n",
       "      <td>489434</td>\n",
       "      <td>85048</td>\n",
       "      <td>15CM CHRISTMAS GLASS BALL 20 LIGHTS</td>\n",
       "      <td>12</td>\n",
       "      <td>2009-12-01 07:45:00</td>\n",
       "      <td>6.95</td>\n",
       "      <td>13085.0</td>\n",
       "      <td>United Kingdom</td>\n",
       "      <td>83.4</td>\n",
       "    </tr>\n",
       "    <tr>\n",
       "      <th>1</th>\n",
       "      <td>489434</td>\n",
       "      <td>79323P</td>\n",
       "      <td>PINK CHERRY LIGHTS</td>\n",
       "      <td>12</td>\n",
       "      <td>2009-12-01 07:45:00</td>\n",
       "      <td>6.75</td>\n",
       "      <td>13085.0</td>\n",
       "      <td>United Kingdom</td>\n",
       "      <td>81.0</td>\n",
       "    </tr>\n",
       "    <tr>\n",
       "      <th>2</th>\n",
       "      <td>489434</td>\n",
       "      <td>79323W</td>\n",
       "      <td>WHITE CHERRY LIGHTS</td>\n",
       "      <td>12</td>\n",
       "      <td>2009-12-01 07:45:00</td>\n",
       "      <td>6.75</td>\n",
       "      <td>13085.0</td>\n",
       "      <td>United Kingdom</td>\n",
       "      <td>81.0</td>\n",
       "    </tr>\n",
       "    <tr>\n",
       "      <th>3</th>\n",
       "      <td>489434</td>\n",
       "      <td>22041</td>\n",
       "      <td>RECORD FRAME 7\" SINGLE SIZE</td>\n",
       "      <td>48</td>\n",
       "      <td>2009-12-01 07:45:00</td>\n",
       "      <td>2.10</td>\n",
       "      <td>13085.0</td>\n",
       "      <td>United Kingdom</td>\n",
       "      <td>100.8</td>\n",
       "    </tr>\n",
       "    <tr>\n",
       "      <th>4</th>\n",
       "      <td>489434</td>\n",
       "      <td>21232</td>\n",
       "      <td>STRAWBERRY CERAMIC TRINKET BOX</td>\n",
       "      <td>24</td>\n",
       "      <td>2009-12-01 07:45:00</td>\n",
       "      <td>1.25</td>\n",
       "      <td>13085.0</td>\n",
       "      <td>United Kingdom</td>\n",
       "      <td>30.0</td>\n",
       "    </tr>\n",
       "  </tbody>\n",
       "</table>\n",
       "</div>"
      ],
      "text/plain": [
       "   Invoice StockCode                          Description  Quantity  \\\n",
       "0   489434     85048  15CM CHRISTMAS GLASS BALL 20 LIGHTS        12   \n",
       "1   489434    79323P                   PINK CHERRY LIGHTS        12   \n",
       "2   489434    79323W                  WHITE CHERRY LIGHTS        12   \n",
       "3   489434     22041         RECORD FRAME 7\" SINGLE SIZE         48   \n",
       "4   489434     21232       STRAWBERRY CERAMIC TRINKET BOX        24   \n",
       "\n",
       "           InvoiceDate  Price  Customer ID         Country  Revenue  \n",
       "0  2009-12-01 07:45:00   6.95      13085.0  United Kingdom     83.4  \n",
       "1  2009-12-01 07:45:00   6.75      13085.0  United Kingdom     81.0  \n",
       "2  2009-12-01 07:45:00   6.75      13085.0  United Kingdom     81.0  \n",
       "3  2009-12-01 07:45:00   2.10      13085.0  United Kingdom    100.8  \n",
       "4  2009-12-01 07:45:00   1.25      13085.0  United Kingdom     30.0  "
      ]
     },
     "execution_count": 224,
     "metadata": {},
     "output_type": "execute_result"
    }
   ],
   "source": [
    "retail.head()"
   ]
  },
  {
   "cell_type": "code",
   "execution_count": 225,
   "id": "d5290b86-c7fa-4022-9d8a-8f15759b8900",
   "metadata": {},
   "outputs": [
    {
     "name": "stdout",
     "output_type": "stream",
     "text": [
      "<class 'pandas.core.frame.DataFrame'>\n",
      "Int64Index: 779495 entries, 0 to 1067370\n",
      "Data columns (total 9 columns):\n",
      " #   Column       Non-Null Count   Dtype  \n",
      "---  ------       --------------   -----  \n",
      " 0   Invoice      779495 non-null  int64  \n",
      " 1   StockCode    779495 non-null  object \n",
      " 2   Description  779495 non-null  object \n",
      " 3   Quantity     779495 non-null  int64  \n",
      " 4   InvoiceDate  779495 non-null  object \n",
      " 5   Price        779495 non-null  float64\n",
      " 6   Customer ID  779495 non-null  float64\n",
      " 7   Country      779495 non-null  object \n",
      " 8   Revenue      779495 non-null  float64\n",
      "dtypes: float64(3), int64(2), object(4)\n",
      "memory usage: 59.5+ MB\n"
     ]
    }
   ],
   "source": [
    "retail.info()"
   ]
  },
  {
   "cell_type": "code",
   "execution_count": 226,
   "id": "0aa84578-4ee4-4692-9835-7011ec334d99",
   "metadata": {},
   "outputs": [],
   "source": [
    "dates=retail['InvoiceDate'].str.split(' ', expand= True)"
   ]
  },
  {
   "cell_type": "code",
   "execution_count": 227,
   "id": "177be678-56e9-4107-807f-9fdc4ef48a56",
   "metadata": {},
   "outputs": [
    {
     "data": {
      "text/plain": [
       "0          2009-12-01\n",
       "1          2009-12-01\n",
       "2          2009-12-01\n",
       "3          2009-12-01\n",
       "4          2009-12-01\n",
       "              ...    \n",
       "1067366    2011-12-09\n",
       "1067367    2011-12-09\n",
       "1067368    2011-12-09\n",
       "1067369    2011-12-09\n",
       "1067370    2011-12-09\n",
       "Name: 0, Length: 779495, dtype: object"
      ]
     },
     "execution_count": 227,
     "metadata": {},
     "output_type": "execute_result"
    }
   ],
   "source": [
    "dates[0]"
   ]
  },
  {
   "cell_type": "code",
   "execution_count": 228,
   "id": "8495ebaa-d9ee-4f47-b4e7-64e16e314e61",
   "metadata": {},
   "outputs": [],
   "source": [
    "retail['InvDate']= pd.to_datetime(dates[0])"
   ]
  },
  {
   "cell_type": "code",
   "execution_count": 229,
   "id": "239c8188-ecf5-4818-9f48-be43e55ed8d0",
   "metadata": {},
   "outputs": [
    {
     "data": {
      "text/html": [
       "<div>\n",
       "<style scoped>\n",
       "    .dataframe tbody tr th:only-of-type {\n",
       "        vertical-align: middle;\n",
       "    }\n",
       "\n",
       "    .dataframe tbody tr th {\n",
       "        vertical-align: top;\n",
       "    }\n",
       "\n",
       "    .dataframe thead th {\n",
       "        text-align: right;\n",
       "    }\n",
       "</style>\n",
       "<table border=\"1\" class=\"dataframe\">\n",
       "  <thead>\n",
       "    <tr style=\"text-align: right;\">\n",
       "      <th></th>\n",
       "      <th>count</th>\n",
       "      <th>mean</th>\n",
       "      <th>std</th>\n",
       "      <th>min</th>\n",
       "      <th>25%</th>\n",
       "      <th>50%</th>\n",
       "      <th>75%</th>\n",
       "      <th>max</th>\n",
       "    </tr>\n",
       "  </thead>\n",
       "  <tbody>\n",
       "    <tr>\n",
       "      <th>Invoice</th>\n",
       "      <td>779495.0</td>\n",
       "      <td>537427.005391</td>\n",
       "      <td>26901.961110</td>\n",
       "      <td>489434.0</td>\n",
       "      <td>514483.00</td>\n",
       "      <td>536754.00</td>\n",
       "      <td>562002.00</td>\n",
       "      <td>581587.0</td>\n",
       "    </tr>\n",
       "    <tr>\n",
       "      <th>Quantity</th>\n",
       "      <td>779495.0</td>\n",
       "      <td>13.507085</td>\n",
       "      <td>146.540284</td>\n",
       "      <td>1.0</td>\n",
       "      <td>2.00</td>\n",
       "      <td>6.00</td>\n",
       "      <td>12.00</td>\n",
       "      <td>80995.0</td>\n",
       "    </tr>\n",
       "    <tr>\n",
       "      <th>Price</th>\n",
       "      <td>779495.0</td>\n",
       "      <td>3.218199</td>\n",
       "      <td>29.674823</td>\n",
       "      <td>0.0</td>\n",
       "      <td>1.25</td>\n",
       "      <td>1.95</td>\n",
       "      <td>3.75</td>\n",
       "      <td>10953.5</td>\n",
       "    </tr>\n",
       "    <tr>\n",
       "      <th>Customer ID</th>\n",
       "      <td>779495.0</td>\n",
       "      <td>15320.262918</td>\n",
       "      <td>1695.722988</td>\n",
       "      <td>12346.0</td>\n",
       "      <td>13971.00</td>\n",
       "      <td>15246.00</td>\n",
       "      <td>16794.00</td>\n",
       "      <td>18287.0</td>\n",
       "    </tr>\n",
       "    <tr>\n",
       "      <th>Revenue</th>\n",
       "      <td>779495.0</td>\n",
       "      <td>22.289821</td>\n",
       "      <td>227.416962</td>\n",
       "      <td>0.0</td>\n",
       "      <td>4.95</td>\n",
       "      <td>12.48</td>\n",
       "      <td>19.80</td>\n",
       "      <td>168469.6</td>\n",
       "    </tr>\n",
       "  </tbody>\n",
       "</table>\n",
       "</div>"
      ],
      "text/plain": [
       "                count           mean           std       min        25%  \\\n",
       "Invoice      779495.0  537427.005391  26901.961110  489434.0  514483.00   \n",
       "Quantity     779495.0      13.507085    146.540284       1.0       2.00   \n",
       "Price        779495.0       3.218199     29.674823       0.0       1.25   \n",
       "Customer ID  779495.0   15320.262918   1695.722988   12346.0   13971.00   \n",
       "Revenue      779495.0      22.289821    227.416962       0.0       4.95   \n",
       "\n",
       "                   50%        75%       max  \n",
       "Invoice      536754.00  562002.00  581587.0  \n",
       "Quantity          6.00      12.00   80995.0  \n",
       "Price             1.95       3.75   10953.5  \n",
       "Customer ID   15246.00   16794.00   18287.0  \n",
       "Revenue          12.48      19.80  168469.6  "
      ]
     },
     "execution_count": 229,
     "metadata": {},
     "output_type": "execute_result"
    }
   ],
   "source": [
    "retail.describe().T"
   ]
  },
  {
   "cell_type": "code",
   "execution_count": 230,
   "id": "4f08230b-6bdd-4d12-881e-f4d45721cc12",
   "metadata": {},
   "outputs": [],
   "source": [
    "retail['Daysof Week']=pd.to_datetime(retail['InvDate']).dt.dayofweek"
   ]
  },
  {
   "cell_type": "code",
   "execution_count": 231,
   "id": "1a65a11b-5954-49aa-8073-972391cc2533",
   "metadata": {},
   "outputs": [
    {
     "data": {
      "text/plain": [
       "3    156012\n",
       "1    134028\n",
       "2    130782\n",
       "6    130141\n",
       "0    124957\n",
       "4    103175\n",
       "5       400\n",
       "Name: Daysof Week, dtype: int64"
      ]
     },
     "execution_count": 231,
     "metadata": {},
     "output_type": "execute_result"
    }
   ],
   "source": [
    "retail['Daysof Week'].value_counts()"
   ]
  },
  {
   "cell_type": "code",
   "execution_count": 232,
   "id": "29fe74cb-106b-4b18-bda3-de682f5ca2ab",
   "metadata": {},
   "outputs": [],
   "source": [
    "import seaborn as sns"
   ]
  },
  {
   "cell_type": "code",
   "execution_count": 233,
   "id": "234098b7-021e-43f2-a5dd-15d4ddede114",
   "metadata": {},
   "outputs": [
    {
     "name": "stderr",
     "output_type": "stream",
     "text": [
      "C:\\Users\\Asus\\anaconda31\\lib\\site-packages\\seaborn\\_decorators.py:36: FutureWarning: Pass the following variable as a keyword arg: x. From version 0.12, the only valid positional argument will be `data`, and passing other arguments without an explicit keyword will result in an error or misinterpretation.\n",
      "  warnings.warn(\n"
     ]
    },
    {
     "data": {
      "text/plain": [
       "<AxesSubplot:xlabel='Daysof Week', ylabel='count'>"
      ]
     },
     "execution_count": 233,
     "metadata": {},
     "output_type": "execute_result"
    },
    {
     "data": {
      "image/png": "[encoded data removed]",
      "text/plain": [
       "<Figure size 432x288 with 1 Axes>"
      ]
     },
     "metadata": {
      "needs_background": "light"
     },
     "output_type": "display_data"
    }
   ],
   "source": [
    "sns.countplot(retail['Daysof Week'])"
   ]
  },
  {
   "cell_type": "code",
   "execution_count": 234,
   "id": "8bc6f7f1-2154-49f0-9752-4b3598b7e458",
   "metadata": {},
   "outputs": [],
   "source": [
    "# retail['Inv Date']= pd.to_datetime(retail['InvoiceDate']).dt.strftime('%Y-%M-%D')"
   ]
  },
  {
   "cell_type": "code",
   "execution_count": 235,
   "id": "2797ab9f-f958-4fe5-b3fb-1b99d671e1bb",
   "metadata": {},
   "outputs": [],
   "source": [
    "grouped_retail=retail.groupby(['Description','InvDate']).agg(totes_sales=('Quantity','sum')).reset_index()"
   ]
  },
  {
   "cell_type": "code",
   "execution_count": 236,
   "id": "6a0a393c-3cb7-47f0-9282-e8c67c05d7d5",
   "metadata": {},
   "outputs": [
    {
     "data": {
      "text/html": [
       "<div>\n",
       "<style scoped>\n",
       "    .dataframe tbody tr th:only-of-type {\n",
       "        vertical-align: middle;\n",
       "    }\n",
       "\n",
       "    .dataframe tbody tr th {\n",
       "        vertical-align: top;\n",
       "    }\n",
       "\n",
       "    .dataframe thead th {\n",
       "        text-align: right;\n",
       "    }\n",
       "</style>\n",
       "<table border=\"1\" class=\"dataframe\">\n",
       "  <thead>\n",
       "    <tr style=\"text-align: right;\">\n",
       "      <th></th>\n",
       "      <th>Description</th>\n",
       "      <th>InvDate</th>\n",
       "      <th>totes_sales</th>\n",
       "    </tr>\n",
       "  </thead>\n",
       "  <tbody>\n",
       "    <tr>\n",
       "      <th>0</th>\n",
       "      <td>DOORMAT UNION JACK GUNS AND ROSES</td>\n",
       "      <td>2010-01-05</td>\n",
       "      <td>1</td>\n",
       "    </tr>\n",
       "    <tr>\n",
       "      <th>1</th>\n",
       "      <td>DOORMAT UNION JACK GUNS AND ROSES</td>\n",
       "      <td>2010-01-08</td>\n",
       "      <td>12</td>\n",
       "    </tr>\n",
       "    <tr>\n",
       "      <th>2</th>\n",
       "      <td>DOORMAT UNION JACK GUNS AND ROSES</td>\n",
       "      <td>2010-01-10</td>\n",
       "      <td>3</td>\n",
       "    </tr>\n",
       "    <tr>\n",
       "      <th>3</th>\n",
       "      <td>DOORMAT UNION JACK GUNS AND ROSES</td>\n",
       "      <td>2010-01-11</td>\n",
       "      <td>15</td>\n",
       "    </tr>\n",
       "    <tr>\n",
       "      <th>4</th>\n",
       "      <td>DOORMAT UNION JACK GUNS AND ROSES</td>\n",
       "      <td>2010-01-12</td>\n",
       "      <td>1</td>\n",
       "    </tr>\n",
       "    <tr>\n",
       "      <th>...</th>\n",
       "      <td>...</td>\n",
       "      <td>...</td>\n",
       "      <td>...</td>\n",
       "    </tr>\n",
       "    <tr>\n",
       "      <th>440441</th>\n",
       "      <td>ZINC WIRE SWEETHEART LETTER TRAY</td>\n",
       "      <td>2011-11-18</td>\n",
       "      <td>5</td>\n",
       "    </tr>\n",
       "    <tr>\n",
       "      <th>440442</th>\n",
       "      <td>ZINC WIRE SWEETHEART LETTER TRAY</td>\n",
       "      <td>2011-11-23</td>\n",
       "      <td>2</td>\n",
       "    </tr>\n",
       "    <tr>\n",
       "      <th>440443</th>\n",
       "      <td>ZINC WIRE SWEETHEART LETTER TRAY</td>\n",
       "      <td>2011-11-24</td>\n",
       "      <td>1</td>\n",
       "    </tr>\n",
       "    <tr>\n",
       "      <th>440444</th>\n",
       "      <td>ZINC WIRE SWEETHEART LETTER TRAY</td>\n",
       "      <td>2011-11-30</td>\n",
       "      <td>1</td>\n",
       "    </tr>\n",
       "    <tr>\n",
       "      <th>440445</th>\n",
       "      <td>ZINC WIRE SWEETHEART LETTER TRAY</td>\n",
       "      <td>2011-12-07</td>\n",
       "      <td>13</td>\n",
       "    </tr>\n",
       "  </tbody>\n",
       "</table>\n",
       "<p>440446 rows × 3 columns</p>\n",
       "</div>"
      ],
      "text/plain": [
       "                                Description    InvDate  totes_sales\n",
       "0         DOORMAT UNION JACK GUNS AND ROSES 2010-01-05            1\n",
       "1         DOORMAT UNION JACK GUNS AND ROSES 2010-01-08           12\n",
       "2         DOORMAT UNION JACK GUNS AND ROSES 2010-01-10            3\n",
       "3         DOORMAT UNION JACK GUNS AND ROSES 2010-01-11           15\n",
       "4         DOORMAT UNION JACK GUNS AND ROSES 2010-01-12            1\n",
       "...                                     ...        ...          ...\n",
       "440441     ZINC WIRE SWEETHEART LETTER TRAY 2011-11-18            5\n",
       "440442     ZINC WIRE SWEETHEART LETTER TRAY 2011-11-23            2\n",
       "440443     ZINC WIRE SWEETHEART LETTER TRAY 2011-11-24            1\n",
       "440444     ZINC WIRE SWEETHEART LETTER TRAY 2011-11-30            1\n",
       "440445     ZINC WIRE SWEETHEART LETTER TRAY 2011-12-07           13\n",
       "\n",
       "[440446 rows x 3 columns]"
      ]
     },
     "execution_count": 236,
     "metadata": {},
     "output_type": "execute_result"
    }
   ],
   "source": [
    "grouped_retail"
   ]
  },
  {
   "cell_type": "code",
   "execution_count": 237,
   "id": "b5867ba1-28c5-4478-bd17-b24aae7227cb",
   "metadata": {},
   "outputs": [],
   "source": [
    "cv_data= grouped_retail.groupby('Description').agg(average=('totes_sales','mean'), sd= ('totes_sales', 'std')).reset_index()"
   ]
  },
  {
   "cell_type": "code",
   "execution_count": 238,
   "id": "d5a99394-1243-448f-9a13-e4aee1516801",
   "metadata": {},
   "outputs": [
    {
     "data": {
      "text/html": [
       "<div>\n",
       "<style scoped>\n",
       "    .dataframe tbody tr th:only-of-type {\n",
       "        vertical-align: middle;\n",
       "    }\n",
       "\n",
       "    .dataframe tbody tr th {\n",
       "        vertical-align: top;\n",
       "    }\n",
       "\n",
       "    .dataframe thead th {\n",
       "        text-align: right;\n",
       "    }\n",
       "</style>\n",
       "<table border=\"1\" class=\"dataframe\">\n",
       "  <thead>\n",
       "    <tr style=\"text-align: right;\">\n",
       "      <th></th>\n",
       "      <th>Description</th>\n",
       "      <th>average</th>\n",
       "      <th>sd</th>\n",
       "    </tr>\n",
       "  </thead>\n",
       "  <tbody>\n",
       "    <tr>\n",
       "      <th>0</th>\n",
       "      <td>DOORMAT UNION JACK GUNS AND ROSES</td>\n",
       "      <td>6.958333</td>\n",
       "      <td>7.865606</td>\n",
       "    </tr>\n",
       "    <tr>\n",
       "      <th>1</th>\n",
       "      <td>3 STRIPEY MICE FELTCRAFT</td>\n",
       "      <td>11.220339</td>\n",
       "      <td>14.247889</td>\n",
       "    </tr>\n",
       "    <tr>\n",
       "      <th>2</th>\n",
       "      <td>4 PURPLE FLOCK DINNER CANDLES</td>\n",
       "      <td>7.363636</td>\n",
       "      <td>10.850123</td>\n",
       "    </tr>\n",
       "    <tr>\n",
       "      <th>3</th>\n",
       "      <td>50'S CHRISTMAS GIFT BAG LARGE</td>\n",
       "      <td>31.416667</td>\n",
       "      <td>55.502112</td>\n",
       "    </tr>\n",
       "    <tr>\n",
       "      <th>4</th>\n",
       "      <td>ANIMAL STICKERS</td>\n",
       "      <td>32.083333</td>\n",
       "      <td>11.758620</td>\n",
       "    </tr>\n",
       "    <tr>\n",
       "      <th>...</th>\n",
       "      <td>...</td>\n",
       "      <td>...</td>\n",
       "      <td>...</td>\n",
       "    </tr>\n",
       "    <tr>\n",
       "      <th>5278</th>\n",
       "      <td>ZINC T-LIGHT HOLDER STARS SMALL</td>\n",
       "      <td>36.522388</td>\n",
       "      <td>46.825017</td>\n",
       "    </tr>\n",
       "    <tr>\n",
       "      <th>5279</th>\n",
       "      <td>ZINC TOP  2 DOOR WOODEN SHELF</td>\n",
       "      <td>5.902439</td>\n",
       "      <td>7.598700</td>\n",
       "    </tr>\n",
       "    <tr>\n",
       "      <th>5280</th>\n",
       "      <td>ZINC WILLIE WINKIE  CANDLE STICK</td>\n",
       "      <td>21.116438</td>\n",
       "      <td>23.437864</td>\n",
       "    </tr>\n",
       "    <tr>\n",
       "      <th>5281</th>\n",
       "      <td>ZINC WIRE KITCHEN ORGANISER</td>\n",
       "      <td>2.500000</td>\n",
       "      <td>2.505549</td>\n",
       "    </tr>\n",
       "    <tr>\n",
       "      <th>5282</th>\n",
       "      <td>ZINC WIRE SWEETHEART LETTER TRAY</td>\n",
       "      <td>4.444444</td>\n",
       "      <td>5.772371</td>\n",
       "    </tr>\n",
       "  </tbody>\n",
       "</table>\n",
       "<p>5283 rows × 3 columns</p>\n",
       "</div>"
      ],
      "text/plain": [
       "                              Description    average         sd\n",
       "0       DOORMAT UNION JACK GUNS AND ROSES   6.958333   7.865606\n",
       "1                3 STRIPEY MICE FELTCRAFT  11.220339  14.247889\n",
       "2           4 PURPLE FLOCK DINNER CANDLES   7.363636  10.850123\n",
       "3           50'S CHRISTMAS GIFT BAG LARGE  31.416667  55.502112\n",
       "4                         ANIMAL STICKERS  32.083333  11.758620\n",
       "...                                   ...        ...        ...\n",
       "5278      ZINC T-LIGHT HOLDER STARS SMALL  36.522388  46.825017\n",
       "5279       ZINC TOP  2 DOOR WOODEN SHELF    5.902439   7.598700\n",
       "5280     ZINC WILLIE WINKIE  CANDLE STICK  21.116438  23.437864\n",
       "5281          ZINC WIRE KITCHEN ORGANISER   2.500000   2.505549\n",
       "5282     ZINC WIRE SWEETHEART LETTER TRAY   4.444444   5.772371\n",
       "\n",
       "[5283 rows x 3 columns]"
      ]
     },
     "execution_count": 238,
     "metadata": {},
     "output_type": "execute_result"
    }
   ],
   "source": [
    "cv_data"
   ]
  },
  {
   "cell_type": "code",
   "execution_count": 239,
   "id": "21b1a61e-28ee-443b-b185-223757041112",
   "metadata": {},
   "outputs": [
    {
     "data": {
      "text/html": [
       "<div>\n",
       "<style scoped>\n",
       "    .dataframe tbody tr th:only-of-type {\n",
       "        vertical-align: middle;\n",
       "    }\n",
       "\n",
       "    .dataframe tbody tr th {\n",
       "        vertical-align: top;\n",
       "    }\n",
       "\n",
       "    .dataframe thead th {\n",
       "        text-align: right;\n",
       "    }\n",
       "</style>\n",
       "<table border=\"1\" class=\"dataframe\">\n",
       "  <thead>\n",
       "    <tr style=\"text-align: right;\">\n",
       "      <th></th>\n",
       "      <th>Description</th>\n",
       "      <th>InvDate</th>\n",
       "      <th>totes_sales</th>\n",
       "    </tr>\n",
       "  </thead>\n",
       "  <tbody>\n",
       "    <tr>\n",
       "      <th>0</th>\n",
       "      <td>DOORMAT UNION JACK GUNS AND ROSES</td>\n",
       "      <td>2010-01-05</td>\n",
       "      <td>1</td>\n",
       "    </tr>\n",
       "    <tr>\n",
       "      <th>1</th>\n",
       "      <td>DOORMAT UNION JACK GUNS AND ROSES</td>\n",
       "      <td>2010-01-08</td>\n",
       "      <td>12</td>\n",
       "    </tr>\n",
       "    <tr>\n",
       "      <th>2</th>\n",
       "      <td>DOORMAT UNION JACK GUNS AND ROSES</td>\n",
       "      <td>2010-01-10</td>\n",
       "      <td>3</td>\n",
       "    </tr>\n",
       "    <tr>\n",
       "      <th>3</th>\n",
       "      <td>DOORMAT UNION JACK GUNS AND ROSES</td>\n",
       "      <td>2010-01-11</td>\n",
       "      <td>15</td>\n",
       "    </tr>\n",
       "    <tr>\n",
       "      <th>4</th>\n",
       "      <td>DOORMAT UNION JACK GUNS AND ROSES</td>\n",
       "      <td>2010-01-12</td>\n",
       "      <td>1</td>\n",
       "    </tr>\n",
       "    <tr>\n",
       "      <th>...</th>\n",
       "      <td>...</td>\n",
       "      <td>...</td>\n",
       "      <td>...</td>\n",
       "    </tr>\n",
       "    <tr>\n",
       "      <th>440441</th>\n",
       "      <td>ZINC WIRE SWEETHEART LETTER TRAY</td>\n",
       "      <td>2011-11-18</td>\n",
       "      <td>5</td>\n",
       "    </tr>\n",
       "    <tr>\n",
       "      <th>440442</th>\n",
       "      <td>ZINC WIRE SWEETHEART LETTER TRAY</td>\n",
       "      <td>2011-11-23</td>\n",
       "      <td>2</td>\n",
       "    </tr>\n",
       "    <tr>\n",
       "      <th>440443</th>\n",
       "      <td>ZINC WIRE SWEETHEART LETTER TRAY</td>\n",
       "      <td>2011-11-24</td>\n",
       "      <td>1</td>\n",
       "    </tr>\n",
       "    <tr>\n",
       "      <th>440444</th>\n",
       "      <td>ZINC WIRE SWEETHEART LETTER TRAY</td>\n",
       "      <td>2011-11-30</td>\n",
       "      <td>1</td>\n",
       "    </tr>\n",
       "    <tr>\n",
       "      <th>440445</th>\n",
       "      <td>ZINC WIRE SWEETHEART LETTER TRAY</td>\n",
       "      <td>2011-12-07</td>\n",
       "      <td>13</td>\n",
       "    </tr>\n",
       "  </tbody>\n",
       "</table>\n",
       "<p>440446 rows × 3 columns</p>\n",
       "</div>"
      ],
      "text/plain": [
       "                                Description    InvDate  totes_sales\n",
       "0         DOORMAT UNION JACK GUNS AND ROSES 2010-01-05            1\n",
       "1         DOORMAT UNION JACK GUNS AND ROSES 2010-01-08           12\n",
       "2         DOORMAT UNION JACK GUNS AND ROSES 2010-01-10            3\n",
       "3         DOORMAT UNION JACK GUNS AND ROSES 2010-01-11           15\n",
       "4         DOORMAT UNION JACK GUNS AND ROSES 2010-01-12            1\n",
       "...                                     ...        ...          ...\n",
       "440441     ZINC WIRE SWEETHEART LETTER TRAY 2011-11-18            5\n",
       "440442     ZINC WIRE SWEETHEART LETTER TRAY 2011-11-23            2\n",
       "440443     ZINC WIRE SWEETHEART LETTER TRAY 2011-11-24            1\n",
       "440444     ZINC WIRE SWEETHEART LETTER TRAY 2011-11-30            1\n",
       "440445     ZINC WIRE SWEETHEART LETTER TRAY 2011-12-07           13\n",
       "\n",
       "[440446 rows x 3 columns]"
      ]
     },
     "execution_count": 239,
     "metadata": {},
     "output_type": "execute_result"
    }
   ],
   "source": [
    "grouped_retail"
   ]
  },
  {
   "cell_type": "code",
   "execution_count": 240,
   "id": "5d5ab811-032b-43bb-b33c-8b1be71dadc6",
   "metadata": {},
   "outputs": [],
   "source": [
    "cv_data['coeff_var_sq']= (cv_data['sd']/cv_data['average'])**2"
   ]
  },
  {
   "cell_type": "code",
   "execution_count": 241,
   "id": "37f52091-4f87-4894-9026-70893e2c7b9f",
   "metadata": {},
   "outputs": [
    {
     "data": {
      "text/html": [
       "<div>\n",
       "<style scoped>\n",
       "    .dataframe tbody tr th:only-of-type {\n",
       "        vertical-align: middle;\n",
       "    }\n",
       "\n",
       "    .dataframe tbody tr th {\n",
       "        vertical-align: top;\n",
       "    }\n",
       "\n",
       "    .dataframe thead th {\n",
       "        text-align: right;\n",
       "    }\n",
       "</style>\n",
       "<table border=\"1\" class=\"dataframe\">\n",
       "  <thead>\n",
       "    <tr style=\"text-align: right;\">\n",
       "      <th></th>\n",
       "      <th>Description</th>\n",
       "      <th>average</th>\n",
       "      <th>sd</th>\n",
       "      <th>coeff_var_sq</th>\n",
       "    </tr>\n",
       "  </thead>\n",
       "  <tbody>\n",
       "    <tr>\n",
       "      <th>0</th>\n",
       "      <td>DOORMAT UNION JACK GUNS AND ROSES</td>\n",
       "      <td>6.958333</td>\n",
       "      <td>7.865606</td>\n",
       "      <td>1.277774</td>\n",
       "    </tr>\n",
       "    <tr>\n",
       "      <th>1</th>\n",
       "      <td>3 STRIPEY MICE FELTCRAFT</td>\n",
       "      <td>11.220339</td>\n",
       "      <td>14.247889</td>\n",
       "      <td>1.612460</td>\n",
       "    </tr>\n",
       "    <tr>\n",
       "      <th>2</th>\n",
       "      <td>4 PURPLE FLOCK DINNER CANDLES</td>\n",
       "      <td>7.363636</td>\n",
       "      <td>10.850123</td>\n",
       "      <td>2.171124</td>\n",
       "    </tr>\n",
       "    <tr>\n",
       "      <th>3</th>\n",
       "      <td>50'S CHRISTMAS GIFT BAG LARGE</td>\n",
       "      <td>31.416667</td>\n",
       "      <td>55.502112</td>\n",
       "      <td>3.121036</td>\n",
       "    </tr>\n",
       "    <tr>\n",
       "      <th>4</th>\n",
       "      <td>ANIMAL STICKERS</td>\n",
       "      <td>32.083333</td>\n",
       "      <td>11.758620</td>\n",
       "      <td>0.134324</td>\n",
       "    </tr>\n",
       "    <tr>\n",
       "      <th>...</th>\n",
       "      <td>...</td>\n",
       "      <td>...</td>\n",
       "      <td>...</td>\n",
       "      <td>...</td>\n",
       "    </tr>\n",
       "    <tr>\n",
       "      <th>5278</th>\n",
       "      <td>ZINC T-LIGHT HOLDER STARS SMALL</td>\n",
       "      <td>36.522388</td>\n",
       "      <td>46.825017</td>\n",
       "      <td>1.643757</td>\n",
       "    </tr>\n",
       "    <tr>\n",
       "      <th>5279</th>\n",
       "      <td>ZINC TOP  2 DOOR WOODEN SHELF</td>\n",
       "      <td>5.902439</td>\n",
       "      <td>7.598700</td>\n",
       "      <td>1.657355</td>\n",
       "    </tr>\n",
       "    <tr>\n",
       "      <th>5280</th>\n",
       "      <td>ZINC WILLIE WINKIE  CANDLE STICK</td>\n",
       "      <td>21.116438</td>\n",
       "      <td>23.437864</td>\n",
       "      <td>1.231955</td>\n",
       "    </tr>\n",
       "    <tr>\n",
       "      <th>5281</th>\n",
       "      <td>ZINC WIRE KITCHEN ORGANISER</td>\n",
       "      <td>2.500000</td>\n",
       "      <td>2.505549</td>\n",
       "      <td>1.004444</td>\n",
       "    </tr>\n",
       "    <tr>\n",
       "      <th>5282</th>\n",
       "      <td>ZINC WIRE SWEETHEART LETTER TRAY</td>\n",
       "      <td>4.444444</td>\n",
       "      <td>5.772371</td>\n",
       "      <td>1.686838</td>\n",
       "    </tr>\n",
       "  </tbody>\n",
       "</table>\n",
       "<p>5283 rows × 4 columns</p>\n",
       "</div>"
      ],
      "text/plain": [
       "                              Description    average         sd  coeff_var_sq\n",
       "0       DOORMAT UNION JACK GUNS AND ROSES   6.958333   7.865606      1.277774\n",
       "1                3 STRIPEY MICE FELTCRAFT  11.220339  14.247889      1.612460\n",
       "2           4 PURPLE FLOCK DINNER CANDLES   7.363636  10.850123      2.171124\n",
       "3           50'S CHRISTMAS GIFT BAG LARGE  31.416667  55.502112      3.121036\n",
       "4                         ANIMAL STICKERS  32.083333  11.758620      0.134324\n",
       "...                                   ...        ...        ...           ...\n",
       "5278      ZINC T-LIGHT HOLDER STARS SMALL  36.522388  46.825017      1.643757\n",
       "5279       ZINC TOP  2 DOOR WOODEN SHELF    5.902439   7.598700      1.657355\n",
       "5280     ZINC WILLIE WINKIE  CANDLE STICK  21.116438  23.437864      1.231955\n",
       "5281          ZINC WIRE KITCHEN ORGANISER   2.500000   2.505549      1.004444\n",
       "5282     ZINC WIRE SWEETHEART LETTER TRAY   4.444444   5.772371      1.686838\n",
       "\n",
       "[5283 rows x 4 columns]"
      ]
     },
     "execution_count": 241,
     "metadata": {},
     "output_type": "execute_result"
    }
   ],
   "source": [
    "cv_data"
   ]
  },
  {
   "cell_type": "code",
   "execution_count": 242,
   "id": "240639be-156b-4129-97a7-118f06d15573",
   "metadata": {},
   "outputs": [],
   "source": [
    "prod_bydate=retail.groupby(['Description','InvDate']).agg(totes_sales=('Description','count')).reset_index()"
   ]
  },
  {
   "cell_type": "code",
   "execution_count": 243,
   "id": "a82d9bee-fc4d-41c8-a58b-43d8219b0ac4",
   "metadata": {},
   "outputs": [],
   "source": [
    "skus= prod_bydate['Description'].unique()"
   ]
  },
  {
   "cell_type": "code",
   "execution_count": 268,
   "id": "896fd2ca-518f-43e8-ac2a-c7fa470a1c45",
   "metadata": {},
   "outputs": [
    {
     "data": {
      "text/plain": [
       "5283"
      ]
     },
     "execution_count": 268,
     "metadata": {},
     "output_type": "execute_result"
    }
   ],
   "source": [
    "len(skus)"
   ]
  },
  {
   "cell_type": "code",
   "execution_count": 246,
   "id": "5df26dd8-9be8-40ba-bb86-bde8c75d8e5d",
   "metadata": {},
   "outputs": [
    {
     "data": {
      "text/html": [
       "<div>\n",
       "<style scoped>\n",
       "    .dataframe tbody tr th:only-of-type {\n",
       "        vertical-align: middle;\n",
       "    }\n",
       "\n",
       "    .dataframe tbody tr th {\n",
       "        vertical-align: top;\n",
       "    }\n",
       "\n",
       "    .dataframe thead th {\n",
       "        text-align: right;\n",
       "    }\n",
       "</style>\n",
       "<table border=\"1\" class=\"dataframe\">\n",
       "  <thead>\n",
       "    <tr style=\"text-align: right;\">\n",
       "      <th></th>\n",
       "      <th>Description</th>\n",
       "      <th>InvDate</th>\n",
       "      <th>totes_sales</th>\n",
       "    </tr>\n",
       "  </thead>\n",
       "  <tbody>\n",
       "    <tr>\n",
       "      <th>0</th>\n",
       "      <td>DOORMAT UNION JACK GUNS AND ROSES</td>\n",
       "      <td>2010-01-05</td>\n",
       "      <td>1</td>\n",
       "    </tr>\n",
       "    <tr>\n",
       "      <th>1</th>\n",
       "      <td>DOORMAT UNION JACK GUNS AND ROSES</td>\n",
       "      <td>2010-01-08</td>\n",
       "      <td>3</td>\n",
       "    </tr>\n",
       "    <tr>\n",
       "      <th>2</th>\n",
       "      <td>DOORMAT UNION JACK GUNS AND ROSES</td>\n",
       "      <td>2010-01-10</td>\n",
       "      <td>1</td>\n",
       "    </tr>\n",
       "    <tr>\n",
       "      <th>3</th>\n",
       "      <td>DOORMAT UNION JACK GUNS AND ROSES</td>\n",
       "      <td>2010-01-11</td>\n",
       "      <td>2</td>\n",
       "    </tr>\n",
       "    <tr>\n",
       "      <th>4</th>\n",
       "      <td>DOORMAT UNION JACK GUNS AND ROSES</td>\n",
       "      <td>2010-01-12</td>\n",
       "      <td>1</td>\n",
       "    </tr>\n",
       "    <tr>\n",
       "      <th>...</th>\n",
       "      <td>...</td>\n",
       "      <td>...</td>\n",
       "      <td>...</td>\n",
       "    </tr>\n",
       "    <tr>\n",
       "      <th>440441</th>\n",
       "      <td>ZINC WIRE SWEETHEART LETTER TRAY</td>\n",
       "      <td>2011-11-18</td>\n",
       "      <td>2</td>\n",
       "    </tr>\n",
       "    <tr>\n",
       "      <th>440442</th>\n",
       "      <td>ZINC WIRE SWEETHEART LETTER TRAY</td>\n",
       "      <td>2011-11-23</td>\n",
       "      <td>1</td>\n",
       "    </tr>\n",
       "    <tr>\n",
       "      <th>440443</th>\n",
       "      <td>ZINC WIRE SWEETHEART LETTER TRAY</td>\n",
       "      <td>2011-11-24</td>\n",
       "      <td>1</td>\n",
       "    </tr>\n",
       "    <tr>\n",
       "      <th>440444</th>\n",
       "      <td>ZINC WIRE SWEETHEART LETTER TRAY</td>\n",
       "      <td>2011-11-30</td>\n",
       "      <td>1</td>\n",
       "    </tr>\n",
       "    <tr>\n",
       "      <th>440445</th>\n",
       "      <td>ZINC WIRE SWEETHEART LETTER TRAY</td>\n",
       "      <td>2011-12-07</td>\n",
       "      <td>2</td>\n",
       "    </tr>\n",
       "  </tbody>\n",
       "</table>\n",
       "<p>440446 rows × 3 columns</p>\n",
       "</div>"
      ],
      "text/plain": [
       "                                Description    InvDate  totes_sales\n",
       "0         DOORMAT UNION JACK GUNS AND ROSES 2010-01-05            1\n",
       "1         DOORMAT UNION JACK GUNS AND ROSES 2010-01-08            3\n",
       "2         DOORMAT UNION JACK GUNS AND ROSES 2010-01-10            1\n",
       "3         DOORMAT UNION JACK GUNS AND ROSES 2010-01-11            2\n",
       "4         DOORMAT UNION JACK GUNS AND ROSES 2010-01-12            1\n",
       "...                                     ...        ...          ...\n",
       "440441     ZINC WIRE SWEETHEART LETTER TRAY 2011-11-18            2\n",
       "440442     ZINC WIRE SWEETHEART LETTER TRAY 2011-11-23            1\n",
       "440443     ZINC WIRE SWEETHEART LETTER TRAY 2011-11-24            1\n",
       "440444     ZINC WIRE SWEETHEART LETTER TRAY 2011-11-30            1\n",
       "440445     ZINC WIRE SWEETHEART LETTER TRAY 2011-12-07            2\n",
       "\n",
       "[440446 rows x 3 columns]"
      ]
     },
     "execution_count": 246,
     "metadata": {},
     "output_type": "execute_result"
    }
   ],
   "source": [
    "prod_bydate"
   ]
  },
  {
   "cell_type": "code",
   "execution_count": 257,
   "id": "47e698c6-7c40-4f32-a635-dab0a069fa86",
   "metadata": {},
   "outputs": [],
   "source": [
    "prod_bydate.drop(columns='Prev date', axis= 1 , inplace= True)"
   ]
  },
  {
   "cell_type": "code",
   "execution_count": 258,
   "id": "eeb1cd1e-1dbf-4786-9b73-19d36045681a",
   "metadata": {},
   "outputs": [
    {
     "data": {
      "text/html": [
       "<div>\n",
       "<style scoped>\n",
       "    .dataframe tbody tr th:only-of-type {\n",
       "        vertical-align: middle;\n",
       "    }\n",
       "\n",
       "    .dataframe tbody tr th {\n",
       "        vertical-align: top;\n",
       "    }\n",
       "\n",
       "    .dataframe thead th {\n",
       "        text-align: right;\n",
       "    }\n",
       "</style>\n",
       "<table border=\"1\" class=\"dataframe\">\n",
       "  <thead>\n",
       "    <tr style=\"text-align: right;\">\n",
       "      <th></th>\n",
       "      <th>Description</th>\n",
       "      <th>InvDate</th>\n",
       "      <th>totes_sales</th>\n",
       "    </tr>\n",
       "  </thead>\n",
       "  <tbody>\n",
       "    <tr>\n",
       "      <th>0</th>\n",
       "      <td>DOORMAT UNION JACK GUNS AND ROSES</td>\n",
       "      <td>2010-01-05</td>\n",
       "      <td>1</td>\n",
       "    </tr>\n",
       "    <tr>\n",
       "      <th>1</th>\n",
       "      <td>DOORMAT UNION JACK GUNS AND ROSES</td>\n",
       "      <td>2010-01-08</td>\n",
       "      <td>3</td>\n",
       "    </tr>\n",
       "    <tr>\n",
       "      <th>2</th>\n",
       "      <td>DOORMAT UNION JACK GUNS AND ROSES</td>\n",
       "      <td>2010-01-10</td>\n",
       "      <td>1</td>\n",
       "    </tr>\n",
       "    <tr>\n",
       "      <th>3</th>\n",
       "      <td>DOORMAT UNION JACK GUNS AND ROSES</td>\n",
       "      <td>2010-01-11</td>\n",
       "      <td>2</td>\n",
       "    </tr>\n",
       "    <tr>\n",
       "      <th>4</th>\n",
       "      <td>DOORMAT UNION JACK GUNS AND ROSES</td>\n",
       "      <td>2010-01-12</td>\n",
       "      <td>1</td>\n",
       "    </tr>\n",
       "    <tr>\n",
       "      <th>...</th>\n",
       "      <td>...</td>\n",
       "      <td>...</td>\n",
       "      <td>...</td>\n",
       "    </tr>\n",
       "    <tr>\n",
       "      <th>440441</th>\n",
       "      <td>ZINC WIRE SWEETHEART LETTER TRAY</td>\n",
       "      <td>2011-11-18</td>\n",
       "      <td>2</td>\n",
       "    </tr>\n",
       "    <tr>\n",
       "      <th>440442</th>\n",
       "      <td>ZINC WIRE SWEETHEART LETTER TRAY</td>\n",
       "      <td>2011-11-23</td>\n",
       "      <td>1</td>\n",
       "    </tr>\n",
       "    <tr>\n",
       "      <th>440443</th>\n",
       "      <td>ZINC WIRE SWEETHEART LETTER TRAY</td>\n",
       "      <td>2011-11-24</td>\n",
       "      <td>1</td>\n",
       "    </tr>\n",
       "    <tr>\n",
       "      <th>440444</th>\n",
       "      <td>ZINC WIRE SWEETHEART LETTER TRAY</td>\n",
       "      <td>2011-11-30</td>\n",
       "      <td>1</td>\n",
       "    </tr>\n",
       "    <tr>\n",
       "      <th>440445</th>\n",
       "      <td>ZINC WIRE SWEETHEART LETTER TRAY</td>\n",
       "      <td>2011-12-07</td>\n",
       "      <td>2</td>\n",
       "    </tr>\n",
       "  </tbody>\n",
       "</table>\n",
       "<p>440446 rows × 3 columns</p>\n",
       "</div>"
      ],
      "text/plain": [
       "                                Description    InvDate  totes_sales\n",
       "0         DOORMAT UNION JACK GUNS AND ROSES 2010-01-05            1\n",
       "1         DOORMAT UNION JACK GUNS AND ROSES 2010-01-08            3\n",
       "2         DOORMAT UNION JACK GUNS AND ROSES 2010-01-10            1\n",
       "3         DOORMAT UNION JACK GUNS AND ROSES 2010-01-11            2\n",
       "4         DOORMAT UNION JACK GUNS AND ROSES 2010-01-12            1\n",
       "...                                     ...        ...          ...\n",
       "440441     ZINC WIRE SWEETHEART LETTER TRAY 2011-11-18            2\n",
       "440442     ZINC WIRE SWEETHEART LETTER TRAY 2011-11-23            1\n",
       "440443     ZINC WIRE SWEETHEART LETTER TRAY 2011-11-24            1\n",
       "440444     ZINC WIRE SWEETHEART LETTER TRAY 2011-11-30            1\n",
       "440445     ZINC WIRE SWEETHEART LETTER TRAY 2011-12-07            2\n",
       "\n",
       "[440446 rows x 3 columns]"
      ]
     },
     "execution_count": 258,
     "metadata": {},
     "output_type": "execute_result"
    }
   ],
   "source": [
    "prod_bydate"
   ]
  },
  {
   "cell_type": "code",
   "execution_count": 266,
   "id": "0e076171-899b-4f4d-9c52-312855b681f8",
   "metadata": {},
   "outputs": [],
   "source": [
    "empty_datafram= pd.DataFrame()\n"
   ]
  },
  {
   "cell_type": "code",
   "execution_count": 299,
   "id": "d434f509-1985-4a97-9b0a-2dda040a878e",
   "metadata": {},
   "outputs": [
    {
     "name": "stderr",
     "output_type": "stream",
     "text": [
      "<ipython-input-299-54f26330e684>:2: SettingWithCopyWarning: \n",
      "A value is trying to be set on a copy of a slice from a DataFrame.\n",
      "Try using .loc[row_indexer,col_indexer] = value instead\n",
      "\n",
      "See the caveats in the documentation: https://pandas.pydata.org/pandas-docs/stable/user_guide/indexing.html#returning-a-view-versus-a-copy\n",
      "  a1['Prev Date']= a1['InvDate'].shift(1)\n"
     ]
    }
   ],
   "source": [
    "a1 = prod_bydate[prod_bydate['Description']== skus[6]]\n",
    "a1['Prev Date']= a1['InvDate'].shift(1)"
   ]
  },
  {
   "cell_type": "code",
   "execution_count": 300,
   "id": "5289c742-3da2-451f-81e5-13783415ec53",
   "metadata": {},
   "outputs": [
    {
     "data": {
      "text/html": [
       "<div>\n",
       "<style scoped>\n",
       "    .dataframe tbody tr th:only-of-type {\n",
       "        vertical-align: middle;\n",
       "    }\n",
       "\n",
       "    .dataframe tbody tr th {\n",
       "        vertical-align: top;\n",
       "    }\n",
       "\n",
       "    .dataframe thead th {\n",
       "        text-align: right;\n",
       "    }\n",
       "</style>\n",
       "<table border=\"1\" class=\"dataframe\">\n",
       "  <thead>\n",
       "    <tr style=\"text-align: right;\">\n",
       "      <th></th>\n",
       "      <th>Description</th>\n",
       "      <th>InvDate</th>\n",
       "      <th>totes_sales</th>\n",
       "      <th>Prev Date</th>\n",
       "    </tr>\n",
       "  </thead>\n",
       "  <tbody>\n",
       "    <tr>\n",
       "      <th>208</th>\n",
       "      <td>BROWN  PIRATE TREASURE CHEST</td>\n",
       "      <td>2009-12-01</td>\n",
       "      <td>1</td>\n",
       "      <td>NaT</td>\n",
       "    </tr>\n",
       "    <tr>\n",
       "      <th>209</th>\n",
       "      <td>BROWN  PIRATE TREASURE CHEST</td>\n",
       "      <td>2009-12-13</td>\n",
       "      <td>2</td>\n",
       "      <td>2009-12-01</td>\n",
       "    </tr>\n",
       "    <tr>\n",
       "      <th>210</th>\n",
       "      <td>BROWN  PIRATE TREASURE CHEST</td>\n",
       "      <td>2009-12-16</td>\n",
       "      <td>1</td>\n",
       "      <td>2009-12-13</td>\n",
       "    </tr>\n",
       "    <tr>\n",
       "      <th>211</th>\n",
       "      <td>BROWN  PIRATE TREASURE CHEST</td>\n",
       "      <td>2010-01-10</td>\n",
       "      <td>1</td>\n",
       "      <td>2009-12-16</td>\n",
       "    </tr>\n",
       "    <tr>\n",
       "      <th>212</th>\n",
       "      <td>BROWN  PIRATE TREASURE CHEST</td>\n",
       "      <td>2010-01-14</td>\n",
       "      <td>1</td>\n",
       "      <td>2010-01-10</td>\n",
       "    </tr>\n",
       "    <tr>\n",
       "      <th>213</th>\n",
       "      <td>BROWN  PIRATE TREASURE CHEST</td>\n",
       "      <td>2010-01-21</td>\n",
       "      <td>1</td>\n",
       "      <td>2010-01-14</td>\n",
       "    </tr>\n",
       "  </tbody>\n",
       "</table>\n",
       "</div>"
      ],
      "text/plain": [
       "                        Description    InvDate  totes_sales  Prev Date\n",
       "208   BROWN  PIRATE TREASURE CHEST  2009-12-01            1        NaT\n",
       "209   BROWN  PIRATE TREASURE CHEST  2009-12-13            2 2009-12-01\n",
       "210   BROWN  PIRATE TREASURE CHEST  2009-12-16            1 2009-12-13\n",
       "211   BROWN  PIRATE TREASURE CHEST  2010-01-10            1 2009-12-16\n",
       "212   BROWN  PIRATE TREASURE CHEST  2010-01-14            1 2010-01-10\n",
       "213   BROWN  PIRATE TREASURE CHEST  2010-01-21            1 2010-01-14"
      ]
     },
     "execution_count": 300,
     "metadata": {},
     "output_type": "execute_result"
    }
   ],
   "source": [
    "a1"
   ]
  },
  {
   "cell_type": "code",
   "execution_count": 270,
   "id": "0e3e2cb6-297a-4623-9d80-a0803db4d930",
   "metadata": {},
   "outputs": [
    {
     "name": "stderr",
     "output_type": "stream",
     "text": [
      "<ipython-input-270-db619a5961ca>:3: SettingWithCopyWarning: \n",
      "A value is trying to be set on a copy of a slice from a DataFrame.\n",
      "Try using .loc[row_indexer,col_indexer] = value instead\n",
      "\n",
      "See the caveats in the documentation: https://pandas.pydata.org/pandas-docs/stable/user_guide/indexing.html#returning-a-view-versus-a-copy\n",
      "  a['Prev Date']= a['InvDate'].shift(1)\n"
     ]
    }
   ],
   "source": [
    "for sku in skus:\n",
    "    a = prod_bydate[prod_bydate['Description']== sku]\n",
    "    a['Prev Date']= a['InvDate'].shift(1)\n",
    "    empty_datafram=pd.concat([empty_datafram,a], axis= 0,)\n",
    "    "
   ]
  },
  {
   "cell_type": "code",
   "execution_count": 271,
   "id": "6b087478-0124-49b2-b588-66a2f73da92a",
   "metadata": {},
   "outputs": [
    {
     "data": {
      "text/html": [
       "<div>\n",
       "<style scoped>\n",
       "    .dataframe tbody tr th:only-of-type {\n",
       "        vertical-align: middle;\n",
       "    }\n",
       "\n",
       "    .dataframe tbody tr th {\n",
       "        vertical-align: top;\n",
       "    }\n",
       "\n",
       "    .dataframe thead th {\n",
       "        text-align: right;\n",
       "    }\n",
       "</style>\n",
       "<table border=\"1\" class=\"dataframe\">\n",
       "  <thead>\n",
       "    <tr style=\"text-align: right;\">\n",
       "      <th></th>\n",
       "      <th>Description</th>\n",
       "      <th>InvDate</th>\n",
       "      <th>totes_sales</th>\n",
       "      <th>Prev Date</th>\n",
       "    </tr>\n",
       "  </thead>\n",
       "  <tbody>\n",
       "    <tr>\n",
       "      <th>0</th>\n",
       "      <td>DOORMAT UNION JACK GUNS AND ROSES</td>\n",
       "      <td>2010-01-05</td>\n",
       "      <td>1</td>\n",
       "      <td>NaT</td>\n",
       "    </tr>\n",
       "    <tr>\n",
       "      <th>1</th>\n",
       "      <td>DOORMAT UNION JACK GUNS AND ROSES</td>\n",
       "      <td>2010-01-08</td>\n",
       "      <td>3</td>\n",
       "      <td>2010-01-05</td>\n",
       "    </tr>\n",
       "    <tr>\n",
       "      <th>2</th>\n",
       "      <td>DOORMAT UNION JACK GUNS AND ROSES</td>\n",
       "      <td>2010-01-10</td>\n",
       "      <td>1</td>\n",
       "      <td>2010-01-08</td>\n",
       "    </tr>\n",
       "    <tr>\n",
       "      <th>3</th>\n",
       "      <td>DOORMAT UNION JACK GUNS AND ROSES</td>\n",
       "      <td>2010-01-11</td>\n",
       "      <td>2</td>\n",
       "      <td>2010-01-10</td>\n",
       "    </tr>\n",
       "    <tr>\n",
       "      <th>4</th>\n",
       "      <td>DOORMAT UNION JACK GUNS AND ROSES</td>\n",
       "      <td>2010-01-12</td>\n",
       "      <td>1</td>\n",
       "      <td>2010-01-11</td>\n",
       "    </tr>\n",
       "    <tr>\n",
       "      <th>...</th>\n",
       "      <td>...</td>\n",
       "      <td>...</td>\n",
       "      <td>...</td>\n",
       "      <td>...</td>\n",
       "    </tr>\n",
       "    <tr>\n",
       "      <th>440441</th>\n",
       "      <td>ZINC WIRE SWEETHEART LETTER TRAY</td>\n",
       "      <td>2011-11-18</td>\n",
       "      <td>2</td>\n",
       "      <td>2011-10-27</td>\n",
       "    </tr>\n",
       "    <tr>\n",
       "      <th>440442</th>\n",
       "      <td>ZINC WIRE SWEETHEART LETTER TRAY</td>\n",
       "      <td>2011-11-23</td>\n",
       "      <td>1</td>\n",
       "      <td>2011-11-18</td>\n",
       "    </tr>\n",
       "    <tr>\n",
       "      <th>440443</th>\n",
       "      <td>ZINC WIRE SWEETHEART LETTER TRAY</td>\n",
       "      <td>2011-11-24</td>\n",
       "      <td>1</td>\n",
       "      <td>2011-11-23</td>\n",
       "    </tr>\n",
       "    <tr>\n",
       "      <th>440444</th>\n",
       "      <td>ZINC WIRE SWEETHEART LETTER TRAY</td>\n",
       "      <td>2011-11-30</td>\n",
       "      <td>1</td>\n",
       "      <td>2011-11-24</td>\n",
       "    </tr>\n",
       "    <tr>\n",
       "      <th>440445</th>\n",
       "      <td>ZINC WIRE SWEETHEART LETTER TRAY</td>\n",
       "      <td>2011-12-07</td>\n",
       "      <td>2</td>\n",
       "      <td>2011-11-30</td>\n",
       "    </tr>\n",
       "  </tbody>\n",
       "</table>\n",
       "<p>440446 rows × 4 columns</p>\n",
       "</div>"
      ],
      "text/plain": [
       "                                Description    InvDate  totes_sales  Prev Date\n",
       "0         DOORMAT UNION JACK GUNS AND ROSES 2010-01-05            1        NaT\n",
       "1         DOORMAT UNION JACK GUNS AND ROSES 2010-01-08            3 2010-01-05\n",
       "2         DOORMAT UNION JACK GUNS AND ROSES 2010-01-10            1 2010-01-08\n",
       "3         DOORMAT UNION JACK GUNS AND ROSES 2010-01-11            2 2010-01-10\n",
       "4         DOORMAT UNION JACK GUNS AND ROSES 2010-01-12            1 2010-01-11\n",
       "...                                     ...        ...          ...        ...\n",
       "440441     ZINC WIRE SWEETHEART LETTER TRAY 2011-11-18            2 2011-10-27\n",
       "440442     ZINC WIRE SWEETHEART LETTER TRAY 2011-11-23            1 2011-11-18\n",
       "440443     ZINC WIRE SWEETHEART LETTER TRAY 2011-11-24            1 2011-11-23\n",
       "440444     ZINC WIRE SWEETHEART LETTER TRAY 2011-11-30            1 2011-11-24\n",
       "440445     ZINC WIRE SWEETHEART LETTER TRAY 2011-12-07            2 2011-11-30\n",
       "\n",
       "[440446 rows x 4 columns]"
      ]
     },
     "execution_count": 271,
     "metadata": {},
     "output_type": "execute_result"
    }
   ],
   "source": [
    "empty_datafram"
   ]
  },
  {
   "cell_type": "code",
   "execution_count": 272,
   "id": "e0476e75-d48b-449f-84df-f0b2c0a5447a",
   "metadata": {},
   "outputs": [
    {
     "data": {
      "text/plain": [
       "Description       0\n",
       "InvDate           0\n",
       "totes_sales       0\n",
       "Prev Date      5283\n",
       "dtype: int64"
      ]
     },
     "execution_count": 272,
     "metadata": {},
     "output_type": "execute_result"
    }
   ],
   "source": [
    "empty_datafram.isna().sum()"
   ]
  },
  {
   "cell_type": "code",
   "execution_count": 274,
   "id": "80a048b2-9b4c-420b-9a64-dac663e1d7a7",
   "metadata": {},
   "outputs": [],
   "source": [
    "empty_datafram['Duration']= empty_datafram['InvDate']-empty_datafram['Prev Date']"
   ]
  },
  {
   "cell_type": "code",
   "execution_count": 276,
   "id": "037a3c36-d39e-418c-9a78-d99b1d266658",
   "metadata": {},
   "outputs": [
    {
     "data": {
      "text/plain": [
       "dtype('<m8[ns]')"
      ]
     },
     "execution_count": 276,
     "metadata": {},
     "output_type": "execute_result"
    }
   ],
   "source": [
    "empty_datafram['Duration'].dtypes"
   ]
  },
  {
   "cell_type": "code",
   "execution_count": 279,
   "id": "f2286fc3-4d30-40de-9494-d89b87980256",
   "metadata": {},
   "outputs": [],
   "source": [
    "empty_datafram['Duration']=empty_datafram['Duration'].astype('string')"
   ]
  },
  {
   "cell_type": "code",
   "execution_count": 281,
   "id": "9706770a-caf0-45cb-a2ba-48483de843e2",
   "metadata": {},
   "outputs": [],
   "source": [
    "empty_datafram['Duration']=empty_datafram['Duration'].str.split(\" \", expand= True)[0]"
   ]
  },
  {
   "cell_type": "code",
   "execution_count": 294,
   "id": "6bf64565-476b-423e-b27a-30bb3c69522e",
   "metadata": {},
   "outputs": [],
   "source": [
    "empty_datafram['Duration']=pd.to_numeric( empty_datafram['Duration'], errors= 'coerce')"
   ]
  },
  {
   "cell_type": "code",
   "execution_count": 295,
   "id": "e91fb118-8860-46fe-85d8-dbc8a0585d6e",
   "metadata": {},
   "outputs": [
    {
     "data": {
      "text/plain": [
       "dtype('float64')"
      ]
     },
     "execution_count": 295,
     "metadata": {},
     "output_type": "execute_result"
    }
   ],
   "source": [
    "empty_datafram['Duration'].dtypes"
   ]
  },
  {
   "cell_type": "code",
   "execution_count": 296,
   "id": "bb2d5404-7405-4b37-ba1f-5ba931d062a3",
   "metadata": {},
   "outputs": [
    {
     "data": {
      "text/plain": [
       "(440446, 5)"
      ]
     },
     "execution_count": 296,
     "metadata": {},
     "output_type": "execute_result"
    }
   ],
   "source": [
    "empty_datafram.shape"
   ]
  },
  {
   "cell_type": "code",
   "execution_count": 325,
   "id": "49ea002f-bb5d-4226-a91a-623f6776ced7",
   "metadata": {},
   "outputs": [
    {
     "data": {
      "text/html": [
       "<div>\n",
       "<style scoped>\n",
       "    .dataframe tbody tr th:only-of-type {\n",
       "        vertical-align: middle;\n",
       "    }\n",
       "\n",
       "    .dataframe tbody tr th {\n",
       "        vertical-align: top;\n",
       "    }\n",
       "\n",
       "    .dataframe thead th {\n",
       "        text-align: right;\n",
       "    }\n",
       "</style>\n",
       "<table border=\"1\" class=\"dataframe\">\n",
       "  <thead>\n",
       "    <tr style=\"text-align: right;\">\n",
       "      <th></th>\n",
       "      <th>Description</th>\n",
       "      <th>totes_sales</th>\n",
       "      <th>Duration</th>\n",
       "    </tr>\n",
       "  </thead>\n",
       "  <tbody>\n",
       "    <tr>\n",
       "      <th>0</th>\n",
       "      <td>DOORMAT UNION JACK GUNS AND ROSES</td>\n",
       "      <td>2.125000</td>\n",
       "      <td>3.695652</td>\n",
       "    </tr>\n",
       "    <tr>\n",
       "      <th>1</th>\n",
       "      <td>3 STRIPEY MICE FELTCRAFT</td>\n",
       "      <td>1.949153</td>\n",
       "      <td>3.741379</td>\n",
       "    </tr>\n",
       "    <tr>\n",
       "      <th>2</th>\n",
       "      <td>4 PURPLE FLOCK DINNER CANDLES</td>\n",
       "      <td>1.181818</td>\n",
       "      <td>10.511628</td>\n",
       "    </tr>\n",
       "    <tr>\n",
       "      <th>3</th>\n",
       "      <td>50'S CHRISTMAS GIFT BAG LARGE</td>\n",
       "      <td>1.816667</td>\n",
       "      <td>1.847458</td>\n",
       "    </tr>\n",
       "    <tr>\n",
       "      <th>4</th>\n",
       "      <td>ANIMAL STICKERS</td>\n",
       "      <td>1.000000</td>\n",
       "      <td>8.272727</td>\n",
       "    </tr>\n",
       "    <tr>\n",
       "      <th>...</th>\n",
       "      <td>...</td>\n",
       "      <td>...</td>\n",
       "      <td>...</td>\n",
       "    </tr>\n",
       "    <tr>\n",
       "      <th>5278</th>\n",
       "      <td>ZINC T-LIGHT HOLDER STARS SMALL</td>\n",
       "      <td>1.776119</td>\n",
       "      <td>1.736842</td>\n",
       "    </tr>\n",
       "    <tr>\n",
       "      <th>5279</th>\n",
       "      <td>ZINC TOP  2 DOOR WOODEN SHELF</td>\n",
       "      <td>1.170732</td>\n",
       "      <td>17.550000</td>\n",
       "    </tr>\n",
       "    <tr>\n",
       "      <th>5280</th>\n",
       "      <td>ZINC WILLIE WINKIE  CANDLE STICK</td>\n",
       "      <td>1.551370</td>\n",
       "      <td>2.536082</td>\n",
       "    </tr>\n",
       "    <tr>\n",
       "      <th>5281</th>\n",
       "      <td>ZINC WIRE KITCHEN ORGANISER</td>\n",
       "      <td>1.200000</td>\n",
       "      <td>24.333333</td>\n",
       "    </tr>\n",
       "    <tr>\n",
       "      <th>5282</th>\n",
       "      <td>ZINC WIRE SWEETHEART LETTER TRAY</td>\n",
       "      <td>1.111111</td>\n",
       "      <td>13.529412</td>\n",
       "    </tr>\n",
       "  </tbody>\n",
       "</table>\n",
       "<p>5283 rows × 3 columns</p>\n",
       "</div>"
      ],
      "text/plain": [
       "                              Description  totes_sales   Duration\n",
       "0       DOORMAT UNION JACK GUNS AND ROSES     2.125000   3.695652\n",
       "1                3 STRIPEY MICE FELTCRAFT     1.949153   3.741379\n",
       "2           4 PURPLE FLOCK DINNER CANDLES     1.181818  10.511628\n",
       "3           50'S CHRISTMAS GIFT BAG LARGE     1.816667   1.847458\n",
       "4                         ANIMAL STICKERS     1.000000   8.272727\n",
       "...                                   ...          ...        ...\n",
       "5278      ZINC T-LIGHT HOLDER STARS SMALL     1.776119   1.736842\n",
       "5279       ZINC TOP  2 DOOR WOODEN SHELF      1.170732  17.550000\n",
       "5280     ZINC WILLIE WINKIE  CANDLE STICK     1.551370   2.536082\n",
       "5281          ZINC WIRE KITCHEN ORGANISER     1.200000  24.333333\n",
       "5282     ZINC WIRE SWEETHEART LETTER TRAY     1.111111  13.529412\n",
       "\n",
       "[5283 rows x 3 columns]"
      ]
     },
     "execution_count": 325,
     "metadata": {},
     "output_type": "execute_result"
    }
   ],
   "source": [
    "(empty_datafram.groupby('Description').mean()).reset_index()"
   ]
  },
  {
   "cell_type": "code",
   "execution_count": null,
   "id": "88c190fe-cb0c-43cf-abf0-0a05c1e8b7cc",
   "metadata": {},
   "outputs": [],
   "source": []
  },
  {
   "cell_type": "code",
   "execution_count": 328,
   "id": "922e8cb1-d85e-423e-a6d3-f36196889b34",
   "metadata": {},
   "outputs": [],
   "source": [
    "cv_data['ADI']= ((empty_datafram.groupby('Description').mean()).reset_index())['Duration']"
   ]
  },
  {
   "cell_type": "code",
   "execution_count": 329,
   "id": "eb5013bd-2bc7-4f37-b1f5-e3bfdc3e45d9",
   "metadata": {},
   "outputs": [
    {
     "data": {
      "text/html": [
       "<div>\n",
       "<style scoped>\n",
       "    .dataframe tbody tr th:only-of-type {\n",
       "        vertical-align: middle;\n",
       "    }\n",
       "\n",
       "    .dataframe tbody tr th {\n",
       "        vertical-align: top;\n",
       "    }\n",
       "\n",
       "    .dataframe thead th {\n",
       "        text-align: right;\n",
       "    }\n",
       "</style>\n",
       "<table border=\"1\" class=\"dataframe\">\n",
       "  <thead>\n",
       "    <tr style=\"text-align: right;\">\n",
       "      <th></th>\n",
       "      <th>Description</th>\n",
       "      <th>average</th>\n",
       "      <th>sd</th>\n",
       "      <th>coeff_var_sq</th>\n",
       "      <th>ADI</th>\n",
       "      <th>Categories</th>\n",
       "    </tr>\n",
       "  </thead>\n",
       "  <tbody>\n",
       "    <tr>\n",
       "      <th>0</th>\n",
       "      <td>DOORMAT UNION JACK GUNS AND ROSES</td>\n",
       "      <td>6.958333</td>\n",
       "      <td>7.865606</td>\n",
       "      <td>1.277774</td>\n",
       "      <td>3.695652</td>\n",
       "      <td>0</td>\n",
       "    </tr>\n",
       "    <tr>\n",
       "      <th>1</th>\n",
       "      <td>3 STRIPEY MICE FELTCRAFT</td>\n",
       "      <td>11.220339</td>\n",
       "      <td>14.247889</td>\n",
       "      <td>1.612460</td>\n",
       "      <td>3.741379</td>\n",
       "      <td>0</td>\n",
       "    </tr>\n",
       "    <tr>\n",
       "      <th>2</th>\n",
       "      <td>4 PURPLE FLOCK DINNER CANDLES</td>\n",
       "      <td>7.363636</td>\n",
       "      <td>10.850123</td>\n",
       "      <td>2.171124</td>\n",
       "      <td>10.511628</td>\n",
       "      <td>0</td>\n",
       "    </tr>\n",
       "    <tr>\n",
       "      <th>3</th>\n",
       "      <td>50'S CHRISTMAS GIFT BAG LARGE</td>\n",
       "      <td>31.416667</td>\n",
       "      <td>55.502112</td>\n",
       "      <td>3.121036</td>\n",
       "      <td>1.847458</td>\n",
       "      <td>erratic</td>\n",
       "    </tr>\n",
       "    <tr>\n",
       "      <th>4</th>\n",
       "      <td>ANIMAL STICKERS</td>\n",
       "      <td>32.083333</td>\n",
       "      <td>11.758620</td>\n",
       "      <td>0.134324</td>\n",
       "      <td>8.272727</td>\n",
       "      <td>intermittent</td>\n",
       "    </tr>\n",
       "    <tr>\n",
       "      <th>...</th>\n",
       "      <td>...</td>\n",
       "      <td>...</td>\n",
       "      <td>...</td>\n",
       "      <td>...</td>\n",
       "      <td>...</td>\n",
       "      <td>...</td>\n",
       "    </tr>\n",
       "    <tr>\n",
       "      <th>5278</th>\n",
       "      <td>ZINC T-LIGHT HOLDER STARS SMALL</td>\n",
       "      <td>36.522388</td>\n",
       "      <td>46.825017</td>\n",
       "      <td>1.643757</td>\n",
       "      <td>1.736842</td>\n",
       "      <td>erratic</td>\n",
       "    </tr>\n",
       "    <tr>\n",
       "      <th>5279</th>\n",
       "      <td>ZINC TOP  2 DOOR WOODEN SHELF</td>\n",
       "      <td>5.902439</td>\n",
       "      <td>7.598700</td>\n",
       "      <td>1.657355</td>\n",
       "      <td>17.550000</td>\n",
       "      <td>erratic</td>\n",
       "    </tr>\n",
       "    <tr>\n",
       "      <th>5280</th>\n",
       "      <td>ZINC WILLIE WINKIE  CANDLE STICK</td>\n",
       "      <td>21.116438</td>\n",
       "      <td>23.437864</td>\n",
       "      <td>1.231955</td>\n",
       "      <td>2.536082</td>\n",
       "      <td>0</td>\n",
       "    </tr>\n",
       "    <tr>\n",
       "      <th>5281</th>\n",
       "      <td>ZINC WIRE KITCHEN ORGANISER</td>\n",
       "      <td>2.500000</td>\n",
       "      <td>2.505549</td>\n",
       "      <td>1.004444</td>\n",
       "      <td>24.333333</td>\n",
       "      <td>0</td>\n",
       "    </tr>\n",
       "    <tr>\n",
       "      <th>5282</th>\n",
       "      <td>ZINC WIRE SWEETHEART LETTER TRAY</td>\n",
       "      <td>4.444444</td>\n",
       "      <td>5.772371</td>\n",
       "      <td>1.686838</td>\n",
       "      <td>13.529412</td>\n",
       "      <td>erratic</td>\n",
       "    </tr>\n",
       "  </tbody>\n",
       "</table>\n",
       "<p>5283 rows × 6 columns</p>\n",
       "</div>"
      ],
      "text/plain": [
       "                              Description    average         sd  coeff_var_sq  \\\n",
       "0       DOORMAT UNION JACK GUNS AND ROSES   6.958333   7.865606      1.277774   \n",
       "1                3 STRIPEY MICE FELTCRAFT  11.220339  14.247889      1.612460   \n",
       "2           4 PURPLE FLOCK DINNER CANDLES   7.363636  10.850123      2.171124   \n",
       "3           50'S CHRISTMAS GIFT BAG LARGE  31.416667  55.502112      3.121036   \n",
       "4                         ANIMAL STICKERS  32.083333  11.758620      0.134324   \n",
       "...                                   ...        ...        ...           ...   \n",
       "5278      ZINC T-LIGHT HOLDER STARS SMALL  36.522388  46.825017      1.643757   \n",
       "5279       ZINC TOP  2 DOOR WOODEN SHELF    5.902439   7.598700      1.657355   \n",
       "5280     ZINC WILLIE WINKIE  CANDLE STICK  21.116438  23.437864      1.231955   \n",
       "5281          ZINC WIRE KITCHEN ORGANISER   2.500000   2.505549      1.004444   \n",
       "5282     ZINC WIRE SWEETHEART LETTER TRAY   4.444444   5.772371      1.686838   \n",
       "\n",
       "            ADI    Categories  \n",
       "0      3.695652             0  \n",
       "1      3.741379             0  \n",
       "2     10.511628             0  \n",
       "3      1.847458       erratic  \n",
       "4      8.272727  intermittent  \n",
       "...         ...           ...  \n",
       "5278   1.736842       erratic  \n",
       "5279  17.550000       erratic  \n",
       "5280   2.536082             0  \n",
       "5281  24.333333             0  \n",
       "5282  13.529412       erratic  \n",
       "\n",
       "[5283 rows x 6 columns]"
      ]
     },
     "execution_count": 329,
     "metadata": {},
     "output_type": "execute_result"
    }
   ],
   "source": [
    "cv_data"
   ]
  },
  {
   "cell_type": "code",
   "execution_count": 342,
   "id": "5f160b1c-4aeb-4069-9a40-45790861b384",
   "metadata": {},
   "outputs": [],
   "source": [
    "def categories(cv_data):\n",
    "    a=0\n",
    "    if ((cv_data['ADI']<1.34) & (cv_data['coeff_var_sq']<0.49)):\n",
    "        a='smooth'\n",
    "    if ((cv_data['ADI']>1.34) & (cv_data['coeff_var_sq']>0.49)):\n",
    "        a='lumpy'\n",
    "    if ((cv_data['ADI']<1.34) & (cv_data['coeff_var_sq']>0.49)):\n",
    "        a='erratic'\n",
    "        \n",
    "    if ((cv_data['ADI']>1.34) & (cv_data['coeff_var_sq']<0.49)):\n",
    "        a='intermittent'\n",
    "        \n",
    "    return a"
   ]
  },
  {
   "cell_type": "code",
   "execution_count": 343,
   "id": "896b2bbb-1f57-4d23-9846-f8108a10bcc6",
   "metadata": {},
   "outputs": [],
   "source": [
    "cv_data['Categories']=cv_data.apply(categories, axis =1)"
   ]
  },
  {
   "cell_type": "code",
   "execution_count": 344,
   "id": "f465a78f-aa0f-4326-8b41-c5a1e78c362b",
   "metadata": {},
   "outputs": [
    {
     "data": {
      "text/plain": [
       "0"
      ]
     },
     "execution_count": 344,
     "metadata": {},
     "output_type": "execute_result"
    }
   ],
   "source": [
    "(cv_data['ADI']==0).sum()"
   ]
  },
  {
   "cell_type": "code",
   "execution_count": 345,
   "id": "9434a08f-7503-4d8f-963f-631d3677ade4",
   "metadata": {},
   "outputs": [
    {
     "data": {
      "text/plain": [
       "0              lumpy\n",
       "1              lumpy\n",
       "2              lumpy\n",
       "3              lumpy\n",
       "4       intermittent\n",
       "            ...     \n",
       "5278           lumpy\n",
       "5279           lumpy\n",
       "5280           lumpy\n",
       "5281           lumpy\n",
       "5282           lumpy\n",
       "Name: Categories, Length: 5283, dtype: object"
      ]
     },
     "execution_count": 345,
     "metadata": {},
     "output_type": "execute_result"
    }
   ],
   "source": [
    "cv_data['Categories']"
   ]
  },
  {
   "cell_type": "code",
   "execution_count": 350,
   "id": "82ebf260-2d25-4fed-8787-92a80a23a98d",
   "metadata": {},
   "outputs": [
    {
     "name": "stderr",
     "output_type": "stream",
     "text": [
      "C:\\Users\\Asus\\anaconda31\\lib\\site-packages\\seaborn\\_decorators.py:36: FutureWarning: Pass the following variables as keyword args: x, y. From version 0.12, the only valid positional argument will be `data`, and passing other arguments without an explicit keyword will result in an error or misinterpretation.\n",
      "  warnings.warn(\n"
     ]
    },
    {
     "data": {
      "text/plain": [
       "<AxesSubplot:xlabel='coeff_var_sq', ylabel='ADI'>"
      ]
     },
     "execution_count": 350,
     "metadata": {},
     "output_type": "execute_result"
    },
    {
     "data": {
      "image/png": "[encoded data removed]",
      "text/plain": [
       "<Figure size 432x288 with 1 Axes>"
      ]
     },
     "metadata": {
      "needs_background": "light"
     },
     "output_type": "display_data"
    }
   ],
   "source": [
    "\n",
    "sns.scatterplot(cv_data['coeff_var_sq'], cv_data['ADI'], hue= cv_data['Categories'])"
   ]
  },
  {
   "cell_type": "code",
   "execution_count": 351,
   "id": "23060216-be38-453d-9368-5c921e22269d",
   "metadata": {},
   "outputs": [
    {
     "name": "stderr",
     "output_type": "stream",
     "text": [
      "C:\\Users\\Asus\\anaconda31\\lib\\site-packages\\seaborn\\_decorators.py:36: FutureWarning: Pass the following variable as a keyword arg: x. From version 0.12, the only valid positional argument will be `data`, and passing other arguments without an explicit keyword will result in an error or misinterpretation.\n",
      "  warnings.warn(\n"
     ]
    },
    {
     "data": {
      "text/plain": [
       "<AxesSubplot:xlabel='Categories', ylabel='count'>"
      ]
     },
     "execution_count": 351,
     "metadata": {},
     "output_type": "execute_result"
    },
    {
     "data": {
      "image/png": "[encoded data removed]",
      "text/plain": [
       "<Figure size 432x288 with 1 Axes>"
      ]
     },
     "metadata": {
      "needs_background": "light"
     },
     "output_type": "display_data"
    }
   ],
   "source": [
    "sns.countplot(cv_data['Categories'])"
   ]
  },
  {
   "cell_type": "code",
   "execution_count": null,
   "id": "0d617566-09fb-4a3c-9e2b-eb9b6075dee9",
   "metadata": {},
   "outputs": [],
   "source": []
  }
 ],
 "metadata": {
  "kernelspec": {
   "display_name": "Python 3",
   "language": "python",
   "name": "python3"
  },
  "language_info": {
   "codemirror_mode": {
    "name": "ipython",
    "version": 3
   },
   "file_extension": ".py",
   "mimetype": "text/x-python",
   "name": "python",
   "nbconvert_exporter": "python",
   "pygments_lexer": "ipython3",
   "version": "3.8.5"
  }
 },
 "nbformat": 4,
 "nbformat_minor": 5
}
