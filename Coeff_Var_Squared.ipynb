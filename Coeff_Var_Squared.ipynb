{
 "cells": [
  {
   "cell_type": "code",
   "execution_count": 1,
   "id": "69abde2e-5cc3-4b95-b86c-13dd3e8d8a9a",
   "metadata": {},
   "outputs": [],
   "source": [
    "path= r\"D:\\Asus\\Documents\\retail_clean (1).csv\""
   ]
  },
  {
   "cell_type": "code",
   "execution_count": 2,
   "id": "3fa72597-3f39-4084-aef9-743ed933832f",
   "metadata": {},
   "outputs": [],
   "source": [
    "import pandas as pd"
   ]
  },
  {
   "cell_type": "code",
   "execution_count": 15,
   "id": "bdbe744a-8a4a-4222-b6d3-f83fca231b9c",
   "metadata": {},
   "outputs": [],
   "source": [
    "retail= pd.read_csv(path,index_col='Unnamed: 0')"
   ]
  },
  {
   "cell_type": "code",
   "execution_count": 16,
   "id": "832fd4b2-c235-438a-ad1f-fdbd5de39e6a",
   "metadata": {},
   "outputs": [
    {
     "data": {
      "text/html": [
       "<div>\n",
       "<style scoped>\n",
       "    .dataframe tbody tr th:only-of-type {\n",
       "        vertical-align: middle;\n",
       "    }\n",
       "\n",
       "    .dataframe tbody tr th {\n",
       "        vertical-align: top;\n",
       "    }\n",
       "\n",
       "    .dataframe thead th {\n",
       "        text-align: right;\n",
       "    }\n",
       "</style>\n",
       "<table border=\"1\" class=\"dataframe\">\n",
       "  <thead>\n",
       "    <tr style=\"text-align: right;\">\n",
       "      <th></th>\n",
       "      <th>Invoice</th>\n",
       "      <th>StockCode</th>\n",
       "      <th>Description</th>\n",
       "      <th>Quantity</th>\n",
       "      <th>InvoiceDate</th>\n",
       "      <th>Price</th>\n",
       "      <th>Customer ID</th>\n",
       "      <th>Country</th>\n",
       "      <th>Revenue</th>\n",
       "    </tr>\n",
       "  </thead>\n",
       "  <tbody>\n",
       "    <tr>\n",
       "      <th>0</th>\n",
       "      <td>489434</td>\n",
       "      <td>85048</td>\n",
       "      <td>15CM CHRISTMAS GLASS BALL 20 LIGHTS</td>\n",
       "      <td>12</td>\n",
       "      <td>2009-12-01 07:45:00</td>\n",
       "      <td>6.95</td>\n",
       "      <td>13085.0</td>\n",
       "      <td>United Kingdom</td>\n",
       "      <td>83.4</td>\n",
       "    </tr>\n",
       "    <tr>\n",
       "      <th>1</th>\n",
       "      <td>489434</td>\n",
       "      <td>79323P</td>\n",
       "      <td>PINK CHERRY LIGHTS</td>\n",
       "      <td>12</td>\n",
       "      <td>2009-12-01 07:45:00</td>\n",
       "      <td>6.75</td>\n",
       "      <td>13085.0</td>\n",
       "      <td>United Kingdom</td>\n",
       "      <td>81.0</td>\n",
       "    </tr>\n",
       "    <tr>\n",
       "      <th>2</th>\n",
       "      <td>489434</td>\n",
       "      <td>79323W</td>\n",
       "      <td>WHITE CHERRY LIGHTS</td>\n",
       "      <td>12</td>\n",
       "      <td>2009-12-01 07:45:00</td>\n",
       "      <td>6.75</td>\n",
       "      <td>13085.0</td>\n",
       "      <td>United Kingdom</td>\n",
       "      <td>81.0</td>\n",
       "    </tr>\n",
       "    <tr>\n",
       "      <th>3</th>\n",
       "      <td>489434</td>\n",
       "      <td>22041</td>\n",
       "      <td>RECORD FRAME 7\" SINGLE SIZE</td>\n",
       "      <td>48</td>\n",
       "      <td>2009-12-01 07:45:00</td>\n",
       "      <td>2.10</td>\n",
       "      <td>13085.0</td>\n",
       "      <td>United Kingdom</td>\n",
       "      <td>100.8</td>\n",
       "    </tr>\n",
       "    <tr>\n",
       "      <th>4</th>\n",
       "      <td>489434</td>\n",
       "      <td>21232</td>\n",
       "      <td>STRAWBERRY CERAMIC TRINKET BOX</td>\n",
       "      <td>24</td>\n",
       "      <td>2009-12-01 07:45:00</td>\n",
       "      <td>1.25</td>\n",
       "      <td>13085.0</td>\n",
       "      <td>United Kingdom</td>\n",
       "      <td>30.0</td>\n",
       "    </tr>\n",
       "  </tbody>\n",
       "</table>\n",
       "</div>"
      ],
      "text/plain": [
       "   Invoice StockCode                          Description  Quantity  \\\n",
       "0   489434     85048  15CM CHRISTMAS GLASS BALL 20 LIGHTS        12   \n",
       "1   489434    79323P                   PINK CHERRY LIGHTS        12   \n",
       "2   489434    79323W                  WHITE CHERRY LIGHTS        12   \n",
       "3   489434     22041         RECORD FRAME 7\" SINGLE SIZE         48   \n",
       "4   489434     21232       STRAWBERRY CERAMIC TRINKET BOX        24   \n",
       "\n",
       "           InvoiceDate  Price  Customer ID         Country  Revenue  \n",
       "0  2009-12-01 07:45:00   6.95      13085.0  United Kingdom     83.4  \n",
       "1  2009-12-01 07:45:00   6.75      13085.0  United Kingdom     81.0  \n",
       "2  2009-12-01 07:45:00   6.75      13085.0  United Kingdom     81.0  \n",
       "3  2009-12-01 07:45:00   2.10      13085.0  United Kingdom    100.8  \n",
       "4  2009-12-01 07:45:00   1.25      13085.0  United Kingdom     30.0  "
      ]
     },
     "execution_count": 16,
     "metadata": {},
     "output_type": "execute_result"
    }
   ],
   "source": [
    "retail.head()"
   ]
  },
  {
   "cell_type": "code",
   "execution_count": 17,
   "id": "d5290b86-c7fa-4022-9d8a-8f15759b8900",
   "metadata": {},
   "outputs": [
    {
     "name": "stdout",
     "output_type": "stream",
     "text": [
      "<class 'pandas.core.frame.DataFrame'>\n",
      "Int64Index: 779495 entries, 0 to 1067370\n",
      "Data columns (total 9 columns):\n",
      " #   Column       Non-Null Count   Dtype  \n",
      "---  ------       --------------   -----  \n",
      " 0   Invoice      779495 non-null  int64  \n",
      " 1   StockCode    779495 non-null  object \n",
      " 2   Description  779495 non-null  object \n",
      " 3   Quantity     779495 non-null  int64  \n",
      " 4   InvoiceDate  779495 non-null  object \n",
      " 5   Price        779495 non-null  float64\n",
      " 6   Customer ID  779495 non-null  float64\n",
      " 7   Country      779495 non-null  object \n",
      " 8   Revenue      779495 non-null  float64\n",
      "dtypes: float64(3), int64(2), object(4)\n",
      "memory usage: 59.5+ MB\n"
     ]
    }
   ],
   "source": [
    "retail.info()"
   ]
  },
  {
   "cell_type": "code",
   "execution_count": 18,
   "id": "239c8188-ecf5-4818-9f48-be43e55ed8d0",
   "metadata": {},
   "outputs": [
    {
     "data": {
      "text/html": [
       "<div>\n",
       "<style scoped>\n",
       "    .dataframe tbody tr th:only-of-type {\n",
       "        vertical-align: middle;\n",
       "    }\n",
       "\n",
       "    .dataframe tbody tr th {\n",
       "        vertical-align: top;\n",
       "    }\n",
       "\n",
       "    .dataframe thead th {\n",
       "        text-align: right;\n",
       "    }\n",
       "</style>\n",
       "<table border=\"1\" class=\"dataframe\">\n",
       "  <thead>\n",
       "    <tr style=\"text-align: right;\">\n",
       "      <th></th>\n",
       "      <th>count</th>\n",
       "      <th>mean</th>\n",
       "      <th>std</th>\n",
       "      <th>min</th>\n",
       "      <th>25%</th>\n",
       "      <th>50%</th>\n",
       "      <th>75%</th>\n",
       "      <th>max</th>\n",
       "    </tr>\n",
       "  </thead>\n",
       "  <tbody>\n",
       "    <tr>\n",
       "      <th>Invoice</th>\n",
       "      <td>779495.0</td>\n",
       "      <td>537427.005391</td>\n",
       "      <td>26901.961110</td>\n",
       "      <td>489434.0</td>\n",
       "      <td>514483.00</td>\n",
       "      <td>536754.00</td>\n",
       "      <td>562002.00</td>\n",
       "      <td>581587.0</td>\n",
       "    </tr>\n",
       "    <tr>\n",
       "      <th>Quantity</th>\n",
       "      <td>779495.0</td>\n",
       "      <td>13.507085</td>\n",
       "      <td>146.540284</td>\n",
       "      <td>1.0</td>\n",
       "      <td>2.00</td>\n",
       "      <td>6.00</td>\n",
       "      <td>12.00</td>\n",
       "      <td>80995.0</td>\n",
       "    </tr>\n",
       "    <tr>\n",
       "      <th>Price</th>\n",
       "      <td>779495.0</td>\n",
       "      <td>3.218199</td>\n",
       "      <td>29.674823</td>\n",
       "      <td>0.0</td>\n",
       "      <td>1.25</td>\n",
       "      <td>1.95</td>\n",
       "      <td>3.75</td>\n",
       "      <td>10953.5</td>\n",
       "    </tr>\n",
       "    <tr>\n",
       "      <th>Customer ID</th>\n",
       "      <td>779495.0</td>\n",
       "      <td>15320.262918</td>\n",
       "      <td>1695.722988</td>\n",
       "      <td>12346.0</td>\n",
       "      <td>13971.00</td>\n",
       "      <td>15246.00</td>\n",
       "      <td>16794.00</td>\n",
       "      <td>18287.0</td>\n",
       "    </tr>\n",
       "    <tr>\n",
       "      <th>Revenue</th>\n",
       "      <td>779495.0</td>\n",
       "      <td>22.289821</td>\n",
       "      <td>227.416962</td>\n",
       "      <td>0.0</td>\n",
       "      <td>4.95</td>\n",
       "      <td>12.48</td>\n",
       "      <td>19.80</td>\n",
       "      <td>168469.6</td>\n",
       "    </tr>\n",
       "  </tbody>\n",
       "</table>\n",
       "</div>"
      ],
      "text/plain": [
       "                count           mean           std       min        25%  \\\n",
       "Invoice      779495.0  537427.005391  26901.961110  489434.0  514483.00   \n",
       "Quantity     779495.0      13.507085    146.540284       1.0       2.00   \n",
       "Price        779495.0       3.218199     29.674823       0.0       1.25   \n",
       "Customer ID  779495.0   15320.262918   1695.722988   12346.0   13971.00   \n",
       "Revenue      779495.0      22.289821    227.416962       0.0       4.95   \n",
       "\n",
       "                   50%        75%       max  \n",
       "Invoice      536754.00  562002.00  581587.0  \n",
       "Quantity          6.00      12.00   80995.0  \n",
       "Price             1.95       3.75   10953.5  \n",
       "Customer ID   15246.00   16794.00   18287.0  \n",
       "Revenue          12.48      19.80  168469.6  "
      ]
     },
     "execution_count": 18,
     "metadata": {},
     "output_type": "execute_result"
    }
   ],
   "source": [
    "retail.describe().T"
   ]
  },
  {
   "cell_type": "code",
   "execution_count": 24,
   "id": "4f08230b-6bdd-4d12-881e-f4d45721cc12",
   "metadata": {},
   "outputs": [],
   "source": [
    "retail['Daysof Week']=pd.to_datetime(retail['InvoiceDate']).dt.dayofweek"
   ]
  },
  {
   "cell_type": "code",
   "execution_count": 27,
   "id": "1a65a11b-5954-49aa-8073-972391cc2533",
   "metadata": {},
   "outputs": [
    {
     "data": {
      "text/plain": [
       "3    156012\n",
       "1    134028\n",
       "2    130782\n",
       "6    130141\n",
       "0    124957\n",
       "4    103175\n",
       "5       400\n",
       "Name: Daysof Week, dtype: int64"
      ]
     },
     "execution_count": 27,
     "metadata": {},
     "output_type": "execute_result"
    }
   ],
   "source": [
    "retail['Daysof Week'].value_counts()"
   ]
  },
  {
   "cell_type": "code",
   "execution_count": 28,
   "id": "29fe74cb-106b-4b18-bda3-de682f5ca2ab",
   "metadata": {},
   "outputs": [],
   "source": [
    "import seaborn as sns"
   ]
  },
  {
   "cell_type": "code",
   "execution_count": 29,
   "id": "234098b7-021e-43f2-a5dd-15d4ddede114",
   "metadata": {},
   "outputs": [
    {
     "name": "stderr",
     "output_type": "stream",
     "text": [
      "C:\\Users\\Asus\\anaconda31\\lib\\site-packages\\seaborn\\_decorators.py:36: FutureWarning: Pass the following variable as a keyword arg: x. From version 0.12, the only valid positional argument will be `data`, and passing other arguments without an explicit keyword will result in an error or misinterpretation.\n",
      "  warnings.warn(\n"
     ]
    },
    {
     "data": {
      "text/plain": [
       "<AxesSubplot:xlabel='Daysof Week', ylabel='count'>"
      ]
     },
     "execution_count": 29,
     "metadata": {},
     "output_type": "execute_result"
    },
    {
     "data": {
      "image/png": "[encoded data removed]",
      "text/plain": [
       "<Figure size 432x288 with 1 Axes>"
      ]
     },
     "metadata": {
      "needs_background": "light"
     },
     "output_type": "display_data"
    }
   ],
   "source": [
    "sns.countplot(retail['Daysof Week'])"
   ]
  },
  {
   "cell_type": "code",
   "execution_count": 51,
   "id": "8bc6f7f1-2154-49f0-9752-4b3598b7e458",
   "metadata": {},
   "outputs": [],
   "source": [
    "retail['Inv Date']= pd.to_datetime(retail['InvoiceDate']).dt.strftime('%Y-%M-%D')"
   ]
  },
  {
   "cell_type": "code",
   "execution_count": 52,
   "id": "2797ab9f-f958-4fe5-b3fb-1b99d671e1bb",
   "metadata": {},
   "outputs": [],
   "source": [
    "grouped_retail=retail.groupby(['Description','Inv Date']).agg(totes_sales=('Quantity','sum')).reset_index()"
   ]
  },
  {
   "cell_type": "code",
   "execution_count": 53,
   "id": "6a0a393c-3cb7-47f0-9282-e8c67c05d7d5",
   "metadata": {},
   "outputs": [
    {
     "data": {
      "text/plain": [
       "Index(['Description', 'Inv Date', 'totes_sales'], dtype='object')"
      ]
     },
     "execution_count": 53,
     "metadata": {},
     "output_type": "execute_result"
    }
   ],
   "source": [
    "grouped_retail.columns"
   ]
  },
  {
   "cell_type": "code",
   "execution_count": 54,
   "id": "b5867ba1-28c5-4478-bd17-b24aae7227cb",
   "metadata": {},
   "outputs": [],
   "source": [
    "cv_data= grouped_retail.groupby('Description').agg(average=('totes_sales','mean'), sd= ('totes_sales', 'std')).reset_index()"
   ]
  },
  {
   "cell_type": "code",
   "execution_count": 55,
   "id": "d5a99394-1243-448f-9a13-e4aee1516801",
   "metadata": {},
   "outputs": [
    {
     "data": {
      "text/html": [
       "<div>\n",
       "<style scoped>\n",
       "    .dataframe tbody tr th:only-of-type {\n",
       "        vertical-align: middle;\n",
       "    }\n",
       "\n",
       "    .dataframe tbody tr th {\n",
       "        vertical-align: top;\n",
       "    }\n",
       "\n",
       "    .dataframe thead th {\n",
       "        text-align: right;\n",
       "    }\n",
       "</style>\n",
       "<table border=\"1\" class=\"dataframe\">\n",
       "  <thead>\n",
       "    <tr style=\"text-align: right;\">\n",
       "      <th></th>\n",
       "      <th>Description</th>\n",
       "      <th>average</th>\n",
       "      <th>sd</th>\n",
       "    </tr>\n",
       "  </thead>\n",
       "  <tbody>\n",
       "    <tr>\n",
       "      <th>0</th>\n",
       "      <td>DOORMAT UNION JACK GUNS AND ROSES</td>\n",
       "      <td>3.274510</td>\n",
       "      <td>2.987162</td>\n",
       "    </tr>\n",
       "    <tr>\n",
       "      <th>1</th>\n",
       "      <td>3 STRIPEY MICE FELTCRAFT</td>\n",
       "      <td>6.018182</td>\n",
       "      <td>8.969860</td>\n",
       "    </tr>\n",
       "    <tr>\n",
       "      <th>2</th>\n",
       "      <td>4 PURPLE FLOCK DINNER CANDLES</td>\n",
       "      <td>6.352941</td>\n",
       "      <td>9.482243</td>\n",
       "    </tr>\n",
       "    <tr>\n",
       "      <th>3</th>\n",
       "      <td>50'S CHRISTMAS GIFT BAG LARGE</td>\n",
       "      <td>17.453704</td>\n",
       "      <td>37.975492</td>\n",
       "    </tr>\n",
       "    <tr>\n",
       "      <th>4</th>\n",
       "      <td>ANIMAL STICKERS</td>\n",
       "      <td>32.083333</td>\n",
       "      <td>11.758620</td>\n",
       "    </tr>\n",
       "    <tr>\n",
       "      <th>...</th>\n",
       "      <td>...</td>\n",
       "      <td>...</td>\n",
       "      <td>...</td>\n",
       "    </tr>\n",
       "    <tr>\n",
       "      <th>5278</th>\n",
       "      <td>ZINC T-LIGHT HOLDER STARS SMALL</td>\n",
       "      <td>20.914530</td>\n",
       "      <td>30.657200</td>\n",
       "    </tr>\n",
       "    <tr>\n",
       "      <th>5279</th>\n",
       "      <td>ZINC TOP  2 DOOR WOODEN SHELF</td>\n",
       "      <td>5.041667</td>\n",
       "      <td>4.570760</td>\n",
       "    </tr>\n",
       "    <tr>\n",
       "      <th>5280</th>\n",
       "      <td>ZINC WILLIE WINKIE  CANDLE STICK</td>\n",
       "      <td>14.077626</td>\n",
       "      <td>16.141916</td>\n",
       "    </tr>\n",
       "    <tr>\n",
       "      <th>5281</th>\n",
       "      <td>ZINC WIRE KITCHEN ORGANISER</td>\n",
       "      <td>2.083333</td>\n",
       "      <td>1.311372</td>\n",
       "    </tr>\n",
       "    <tr>\n",
       "      <th>5282</th>\n",
       "      <td>ZINC WIRE SWEETHEART LETTER TRAY</td>\n",
       "      <td>4.000000</td>\n",
       "      <td>5.201214</td>\n",
       "    </tr>\n",
       "  </tbody>\n",
       "</table>\n",
       "<p>5283 rows × 3 columns</p>\n",
       "</div>"
      ],
      "text/plain": [
       "                              Description    average         sd\n",
       "0       DOORMAT UNION JACK GUNS AND ROSES   3.274510   2.987162\n",
       "1                3 STRIPEY MICE FELTCRAFT   6.018182   8.969860\n",
       "2           4 PURPLE FLOCK DINNER CANDLES   6.352941   9.482243\n",
       "3           50'S CHRISTMAS GIFT BAG LARGE  17.453704  37.975492\n",
       "4                         ANIMAL STICKERS  32.083333  11.758620\n",
       "...                                   ...        ...        ...\n",
       "5278      ZINC T-LIGHT HOLDER STARS SMALL  20.914530  30.657200\n",
       "5279       ZINC TOP  2 DOOR WOODEN SHELF    5.041667   4.570760\n",
       "5280     ZINC WILLIE WINKIE  CANDLE STICK  14.077626  16.141916\n",
       "5281          ZINC WIRE KITCHEN ORGANISER   2.083333   1.311372\n",
       "5282     ZINC WIRE SWEETHEART LETTER TRAY   4.000000   5.201214\n",
       "\n",
       "[5283 rows x 3 columns]"
      ]
     },
     "execution_count": 55,
     "metadata": {},
     "output_type": "execute_result"
    }
   ],
   "source": [
    "cv_data"
   ]
  },
  {
   "cell_type": "code",
   "execution_count": 56,
   "id": "21b1a61e-28ee-443b-b185-223757041112",
   "metadata": {},
   "outputs": [
    {
     "data": {
      "text/html": [
       "<div>\n",
       "<style scoped>\n",
       "    .dataframe tbody tr th:only-of-type {\n",
       "        vertical-align: middle;\n",
       "    }\n",
       "\n",
       "    .dataframe tbody tr th {\n",
       "        vertical-align: top;\n",
       "    }\n",
       "\n",
       "    .dataframe thead th {\n",
       "        text-align: right;\n",
       "    }\n",
       "</style>\n",
       "<table border=\"1\" class=\"dataframe\">\n",
       "  <thead>\n",
       "    <tr style=\"text-align: right;\">\n",
       "      <th></th>\n",
       "      <th>Description</th>\n",
       "      <th>Inv Date</th>\n",
       "      <th>totes_sales</th>\n",
       "    </tr>\n",
       "  </thead>\n",
       "  <tbody>\n",
       "    <tr>\n",
       "      <th>0</th>\n",
       "      <td>DOORMAT UNION JACK GUNS AND ROSES</td>\n",
       "      <td>2010-01-01/25/10</td>\n",
       "      <td>1</td>\n",
       "    </tr>\n",
       "    <tr>\n",
       "      <th>1</th>\n",
       "      <td>DOORMAT UNION JACK GUNS AND ROSES</td>\n",
       "      <td>2010-03-01/14/10</td>\n",
       "      <td>1</td>\n",
       "    </tr>\n",
       "    <tr>\n",
       "      <th>2</th>\n",
       "      <td>DOORMAT UNION JACK GUNS AND ROSES</td>\n",
       "      <td>2010-03-01/24/10</td>\n",
       "      <td>3</td>\n",
       "    </tr>\n",
       "    <tr>\n",
       "      <th>3</th>\n",
       "      <td>DOORMAT UNION JACK GUNS AND ROSES</td>\n",
       "      <td>2010-05-01/21/10</td>\n",
       "      <td>10</td>\n",
       "    </tr>\n",
       "    <tr>\n",
       "      <th>4</th>\n",
       "      <td>DOORMAT UNION JACK GUNS AND ROSES</td>\n",
       "      <td>2010-06-01/29/10</td>\n",
       "      <td>6</td>\n",
       "    </tr>\n",
       "    <tr>\n",
       "      <th>...</th>\n",
       "      <td>...</td>\n",
       "      <td>...</td>\n",
       "      <td>...</td>\n",
       "    </tr>\n",
       "    <tr>\n",
       "      <th>757243</th>\n",
       "      <td>ZINC WIRE SWEETHEART LETTER TRAY</td>\n",
       "      <td>2011-50-09/04/11</td>\n",
       "      <td>2</td>\n",
       "    </tr>\n",
       "    <tr>\n",
       "      <th>757244</th>\n",
       "      <td>ZINC WIRE SWEETHEART LETTER TRAY</td>\n",
       "      <td>2011-51-06/02/11</td>\n",
       "      <td>7</td>\n",
       "    </tr>\n",
       "    <tr>\n",
       "      <th>757245</th>\n",
       "      <td>ZINC WIRE SWEETHEART LETTER TRAY</td>\n",
       "      <td>2011-53-04/21/11</td>\n",
       "      <td>1</td>\n",
       "    </tr>\n",
       "    <tr>\n",
       "      <th>757246</th>\n",
       "      <td>ZINC WIRE SWEETHEART LETTER TRAY</td>\n",
       "      <td>2011-53-11/23/11</td>\n",
       "      <td>2</td>\n",
       "    </tr>\n",
       "    <tr>\n",
       "      <th>757247</th>\n",
       "      <td>ZINC WIRE SWEETHEART LETTER TRAY</td>\n",
       "      <td>2011-58-11/18/11</td>\n",
       "      <td>1</td>\n",
       "    </tr>\n",
       "  </tbody>\n",
       "</table>\n",
       "<p>757248 rows × 3 columns</p>\n",
       "</div>"
      ],
      "text/plain": [
       "                                Description          Inv Date  totes_sales\n",
       "0         DOORMAT UNION JACK GUNS AND ROSES  2010-01-01/25/10            1\n",
       "1         DOORMAT UNION JACK GUNS AND ROSES  2010-03-01/14/10            1\n",
       "2         DOORMAT UNION JACK GUNS AND ROSES  2010-03-01/24/10            3\n",
       "3         DOORMAT UNION JACK GUNS AND ROSES  2010-05-01/21/10           10\n",
       "4         DOORMAT UNION JACK GUNS AND ROSES  2010-06-01/29/10            6\n",
       "...                                     ...               ...          ...\n",
       "757243     ZINC WIRE SWEETHEART LETTER TRAY  2011-50-09/04/11            2\n",
       "757244     ZINC WIRE SWEETHEART LETTER TRAY  2011-51-06/02/11            7\n",
       "757245     ZINC WIRE SWEETHEART LETTER TRAY  2011-53-04/21/11            1\n",
       "757246     ZINC WIRE SWEETHEART LETTER TRAY  2011-53-11/23/11            2\n",
       "757247     ZINC WIRE SWEETHEART LETTER TRAY  2011-58-11/18/11            1\n",
       "\n",
       "[757248 rows x 3 columns]"
      ]
     },
     "execution_count": 56,
     "metadata": {},
     "output_type": "execute_result"
    }
   ],
   "source": [
    "grouped_retail"
   ]
  },
  {
   "cell_type": "code",
   "execution_count": 57,
   "id": "5d5ab811-032b-43bb-b33c-8b1be71dadc6",
   "metadata": {},
   "outputs": [],
   "source": [
    "cv_data['coeff_var_sq']= (cv_data['sd']/cv_data['average'])**2"
   ]
  },
  {
   "cell_type": "code",
   "execution_count": 58,
   "id": "37f52091-4f87-4894-9026-70893e2c7b9f",
   "metadata": {},
   "outputs": [
    {
     "data": {
      "text/html": [
       "<div>\n",
       "<style scoped>\n",
       "    .dataframe tbody tr th:only-of-type {\n",
       "        vertical-align: middle;\n",
       "    }\n",
       "\n",
       "    .dataframe tbody tr th {\n",
       "        vertical-align: top;\n",
       "    }\n",
       "\n",
       "    .dataframe thead th {\n",
       "        text-align: right;\n",
       "    }\n",
       "</style>\n",
       "<table border=\"1\" class=\"dataframe\">\n",
       "  <thead>\n",
       "    <tr style=\"text-align: right;\">\n",
       "      <th></th>\n",
       "      <th>Description</th>\n",
       "      <th>average</th>\n",
       "      <th>sd</th>\n",
       "      <th>coeff_var_sq</th>\n",
       "    </tr>\n",
       "  </thead>\n",
       "  <tbody>\n",
       "    <tr>\n",
       "      <th>0</th>\n",
       "      <td>DOORMAT UNION JACK GUNS AND ROSES</td>\n",
       "      <td>3.274510</td>\n",
       "      <td>2.987162</td>\n",
       "      <td>0.832195</td>\n",
       "    </tr>\n",
       "    <tr>\n",
       "      <th>1</th>\n",
       "      <td>3 STRIPEY MICE FELTCRAFT</td>\n",
       "      <td>6.018182</td>\n",
       "      <td>8.969860</td>\n",
       "      <td>2.221471</td>\n",
       "    </tr>\n",
       "    <tr>\n",
       "      <th>2</th>\n",
       "      <td>4 PURPLE FLOCK DINNER CANDLES</td>\n",
       "      <td>6.352941</td>\n",
       "      <td>9.482243</td>\n",
       "      <td>2.227781</td>\n",
       "    </tr>\n",
       "    <tr>\n",
       "      <th>3</th>\n",
       "      <td>50'S CHRISTMAS GIFT BAG LARGE</td>\n",
       "      <td>17.453704</td>\n",
       "      <td>37.975492</td>\n",
       "      <td>4.734037</td>\n",
       "    </tr>\n",
       "    <tr>\n",
       "      <th>4</th>\n",
       "      <td>ANIMAL STICKERS</td>\n",
       "      <td>32.083333</td>\n",
       "      <td>11.758620</td>\n",
       "      <td>0.134324</td>\n",
       "    </tr>\n",
       "    <tr>\n",
       "      <th>...</th>\n",
       "      <td>...</td>\n",
       "      <td>...</td>\n",
       "      <td>...</td>\n",
       "      <td>...</td>\n",
       "    </tr>\n",
       "    <tr>\n",
       "      <th>5278</th>\n",
       "      <td>ZINC T-LIGHT HOLDER STARS SMALL</td>\n",
       "      <td>20.914530</td>\n",
       "      <td>30.657200</td>\n",
       "      <td>2.148665</td>\n",
       "    </tr>\n",
       "    <tr>\n",
       "      <th>5279</th>\n",
       "      <td>ZINC TOP  2 DOOR WOODEN SHELF</td>\n",
       "      <td>5.041667</td>\n",
       "      <td>4.570760</td>\n",
       "      <td>0.821918</td>\n",
       "    </tr>\n",
       "    <tr>\n",
       "      <th>5280</th>\n",
       "      <td>ZINC WILLIE WINKIE  CANDLE STICK</td>\n",
       "      <td>14.077626</td>\n",
       "      <td>16.141916</td>\n",
       "      <td>1.314775</td>\n",
       "    </tr>\n",
       "    <tr>\n",
       "      <th>5281</th>\n",
       "      <td>ZINC WIRE KITCHEN ORGANISER</td>\n",
       "      <td>2.083333</td>\n",
       "      <td>1.311372</td>\n",
       "      <td>0.396218</td>\n",
       "    </tr>\n",
       "    <tr>\n",
       "      <th>5282</th>\n",
       "      <td>ZINC WIRE SWEETHEART LETTER TRAY</td>\n",
       "      <td>4.000000</td>\n",
       "      <td>5.201214</td>\n",
       "      <td>1.690789</td>\n",
       "    </tr>\n",
       "  </tbody>\n",
       "</table>\n",
       "<p>5283 rows × 4 columns</p>\n",
       "</div>"
      ],
      "text/plain": [
       "                              Description    average         sd  coeff_var_sq\n",
       "0       DOORMAT UNION JACK GUNS AND ROSES   3.274510   2.987162      0.832195\n",
       "1                3 STRIPEY MICE FELTCRAFT   6.018182   8.969860      2.221471\n",
       "2           4 PURPLE FLOCK DINNER CANDLES   6.352941   9.482243      2.227781\n",
       "3           50'S CHRISTMAS GIFT BAG LARGE  17.453704  37.975492      4.734037\n",
       "4                         ANIMAL STICKERS  32.083333  11.758620      0.134324\n",
       "...                                   ...        ...        ...           ...\n",
       "5278      ZINC T-LIGHT HOLDER STARS SMALL  20.914530  30.657200      2.148665\n",
       "5279       ZINC TOP  2 DOOR WOODEN SHELF    5.041667   4.570760      0.821918\n",
       "5280     ZINC WILLIE WINKIE  CANDLE STICK  14.077626  16.141916      1.314775\n",
       "5281          ZINC WIRE KITCHEN ORGANISER   2.083333   1.311372      0.396218\n",
       "5282     ZINC WIRE SWEETHEART LETTER TRAY   4.000000   5.201214      1.690789\n",
       "\n",
       "[5283 rows x 4 columns]"
      ]
     },
     "execution_count": 58,
     "metadata": {},
     "output_type": "execute_result"
    }
   ],
   "source": [
    "cv_data"
   ]
  },
  {
   "cell_type": "code",
   "execution_count": null,
   "id": "240639be-156b-4129-97a7-118f06d15573",
   "metadata": {},
   "outputs": [],
   "source": []
  }
 ],
 "metadata": {
  "kernelspec": {
   "display_name": "Python 3",
   "language": "python",
   "name": "python3"
  },
  "language_info": {
   "codemirror_mode": {
    "name": "ipython",
    "version": 3
   },
   "file_extension": ".py",
   "mimetype": "text/x-python",
   "name": "python",
   "nbconvert_exporter": "python",
   "pygments_lexer": "ipython3",
   "version": "3.8.5"
  }
 },
 "nbformat": 4,
 "nbformat_minor": 5
}
